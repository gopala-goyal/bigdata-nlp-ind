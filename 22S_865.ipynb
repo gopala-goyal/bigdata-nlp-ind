{
 "cells": [
  {
   "cell_type": "markdown",
   "metadata": {},
   "source": [
    "# MMA 2022S 865, Individual Assignment 1\n",
    "\n",
    "Version 2: Updated January 1, 2022.\n",
    "\n",
    "- Gopala Goyal\n",
    "- 20254605\n",
    "- 2\n",
    "- January 8, 2022"
   ]
  },
  {
   "cell_type": "markdown",
   "metadata": {},
   "source": [
    "# Question 1 - ELI5\n",
    "\n",
    "_“If you can't explain it simply, you don't understand it well enough.” – Albert Einstein_\n",
    "\n",
    "Explaining technical concepts to a non-technical audience is an underappreciated skill; one which the GMMA/MMA program aims to give its students; and one that will truly set you apart in the job market. The only way to gain a skill is by practice, so here we go.\n",
    "\n",
    "Answer each question below as though you were talking to a 5 year old (equivalently: a grandma, or a completely non-technical manager, or an Ivey grad). Use your own words. Use analogies where possible. Examples are better than theory. Keep it short, but be complete. Use simple, plain English. Do not use business buzzwords like _actualize, empower, fungible, leverage, or synergize_. Do not use technical buzzwords that most people don’t know like _model, agile, bandwidth, IoT, blockchain, AR, VR, actionable insights_. Inform the audience without going into too much technical detail. Your goal is to truly help them understand, not to give what you feel is a “technically precise” answer and move on (but they still don’t understand!). Don’t be that guy!\n",
    "\n",
    "Please keep each answer to 1000 characters or less.\n",
    "\n",
    "Finally, feel free to use [Markdown syntax](https://www.markdownguide.org/basic-syntax/) to format your answer.\n"
   ]
  },
  {
   "cell_type": "markdown",
   "metadata": {},
   "source": [
    "### Part 1: What is “Big Data” and how is it different than “regular data”?"
   ]
  },
  {
   "cell_type": "markdown",
   "metadata": {},
   "source": [
    "TODO: Insert your answer here."
   ]
  },
  {
   "cell_type": "markdown",
   "metadata": {},
   "source": [
    "### Part 2: What is Hadoop? Hint: What problems in previous data storage and processing was Hadoop designed to solve? How did Hadoop accomplish that?"
   ]
  },
  {
   "cell_type": "markdown",
   "metadata": {},
   "source": [
    "TODO: Insert your answer here."
   ]
  },
  {
   "cell_type": "markdown",
   "metadata": {},
   "source": [
    "### Part 3: How does Big Data and the cloud help Machine Learning? "
   ]
  },
  {
   "cell_type": "markdown",
   "metadata": {},
   "source": [
    "TODO: Insert your answer here."
   ]
  },
  {
   "cell_type": "markdown",
   "metadata": {},
   "source": [
    "### Part 4: What is NoSQL?"
   ]
  },
  {
   "cell_type": "markdown",
   "metadata": {},
   "source": [
    "TODO: Insert your answer here."
   ]
  },
  {
   "cell_type": "markdown",
   "metadata": {},
   "source": [
    "### Part 5: Name three ways topic modeling could help a bank."
   ]
  },
  {
   "cell_type": "markdown",
   "metadata": {},
   "source": [
    "TODO: Insert your answer here."
   ]
  },
  {
   "cell_type": "markdown",
   "metadata": {},
   "source": [
    "### Part 6: What is Apache Spark, exactly, and what are its pros and cons?"
   ]
  },
  {
   "cell_type": "markdown",
   "metadata": {},
   "source": [
    "TODO: Insert your answer here."
   ]
  },
  {
   "cell_type": "markdown",
   "metadata": {},
   "source": [
    "# Question 2: Sentiment Analysis via the ML-based approach\n",
    "\n",
    "Download the “Product Sentiment” dataset from the course portal: sentiment_train.csv and sentiment_test.csv."
   ]
  },
  {
   "cell_type": "markdown",
   "metadata": {},
   "source": [
    "### Part 1.a. Loading and Prep\n",
    "\n",
    "Load, clean, and preprocess the data as you find necessary."
   ]
  },
  {
   "cell_type": "code",
   "execution_count": 108,
   "metadata": {},
   "outputs": [],
   "source": [
    "import numpy as np\n",
    "import pandas as pd\n",
    "import matplotlib.pyplot as plt\n",
    "import seaborn as sns\n",
    "import nltk\n",
    "from nltk.sentiment.vader import SentimentIntensityAnalyzer\n",
    "from nltk.corpus import stopwords\n",
    "from nltk.stem import WordNetLemmatizer\n",
    "import string\n",
    "import re\n",
    "\n",
    "from sklearn import metrics\n",
    "from sklearn.feature_extraction.text import CountVectorizer\n",
    "from sklearn.linear_model import LogisticRegression,LogisticRegressionCV\n",
    "from sklearn.metrics import classification_report\n",
    "from sklearn.model_selection import cross_validate, KFold, GridSearchCV\n",
    "\n",
    "from pycaret.classification import *"
   ]
  },
  {
   "cell_type": "code",
   "execution_count": 32,
   "metadata": {},
   "outputs": [],
   "source": [
    "#nltk.download(\"all\")"
   ]
  },
  {
   "cell_type": "code",
   "execution_count": 193,
   "metadata": {},
   "outputs": [
    {
     "name": "stdout",
     "output_type": "stream",
     "text": [
      "<class 'pandas.core.frame.DataFrame'>\n",
      "RangeIndex: 2400 entries, 0 to 2399\n",
      "Data columns (total 2 columns):\n",
      " #   Column    Non-Null Count  Dtype \n",
      "---  ------    --------------  ----- \n",
      " 0   Sentence  2400 non-null   object\n",
      " 1   Polarity  2400 non-null   int64 \n",
      "dtypes: int64(1), object(1)\n",
      "memory usage: 37.6+ KB\n",
      "None\n",
      "                                            Sentence  Polarity\n",
      "0                           Wow... Loved this place.         1\n",
      "1                                 Crust is not good.         0\n",
      "2          Not tasty and the texture was just nasty.         0\n",
      "3  Stopped by during the late May bank holiday of...         1\n",
      "4  The selection on the menu was great and so wer...         1\n",
      "<class 'pandas.core.frame.DataFrame'>\n",
      "RangeIndex: 600 entries, 0 to 599\n",
      "Data columns (total 2 columns):\n",
      " #   Column    Non-Null Count  Dtype \n",
      "---  ------    --------------  ----- \n",
      " 0   Sentence  600 non-null    object\n",
      " 1   Polarity  600 non-null    int64 \n",
      "dtypes: int64(1), object(1)\n",
      "memory usage: 9.5+ KB\n",
      "None\n",
      "                                            Sentence  Polarity\n",
      "0  A good commentary of today's love and undoubte...         1\n",
      "1  For people who are first timers in film making...         1\n",
      "2  It was very popular when I was in the cinema, ...         1\n",
      "3  It's a feel-good film and that's how I felt wh...         1\n",
      "4  It has northern humour and positive about the ...         1\n"
     ]
    }
   ],
   "source": [
    "# TODO: import other libraries as necessary\n",
    "\n",
    "df_train = pd.read_csv(\"sentiment_train.csv\")\n",
    "\n",
    "print(df_train.info())\n",
    "print(df_train.head())\n",
    "\n",
    "df_test = pd.read_csv(\"sentiment_test.csv\")\n",
    "\n",
    "print(df_test.info())\n",
    "print(df_test.head())\n",
    "\n",
    "# TODO"
   ]
  },
  {
   "cell_type": "markdown",
   "metadata": {},
   "source": [
    "### EDA"
   ]
  },
  {
   "cell_type": "code",
   "execution_count": 68,
   "metadata": {},
   "outputs": [
    {
     "data": {
      "text/plain": [
       "<AxesSubplot:>"
      ]
     },
     "execution_count": 68,
     "metadata": {},
     "output_type": "execute_result"
    },
    {
     "data": {
      "image/png": "[encoded data removed]",
      "text/plain": [
       "<Figure size 432x288 with 1 Axes>"
      ]
     },
     "metadata": {
      "needs_background": "light"
     },
     "output_type": "display_data"
    }
   ],
   "source": [
    "df_train.Polarity.value_counts().plot.bar()"
   ]
  },
  {
   "cell_type": "markdown",
   "metadata": {},
   "source": [
    "> Data is balanced"
   ]
  },
  {
   "cell_type": "markdown",
   "metadata": {},
   "source": [
    "### Check missing/wrong values"
   ]
  },
  {
   "cell_type": "code",
   "execution_count": 194,
   "metadata": {},
   "outputs": [],
   "source": [
    "def createLengthCol(dataframe,col):\n",
    "    dataframe['review_length']  = dataframe[col].str.split().str.len()"
   ]
  },
  {
   "cell_type": "code",
   "execution_count": 195,
   "metadata": {},
   "outputs": [
    {
     "data": {
      "text/html": [
       "<div>\n",
       "<style scoped>\n",
       "    .dataframe tbody tr th:only-of-type {\n",
       "        vertical-align: middle;\n",
       "    }\n",
       "\n",
       "    .dataframe tbody tr th {\n",
       "        vertical-align: top;\n",
       "    }\n",
       "\n",
       "    .dataframe thead th {\n",
       "        text-align: right;\n",
       "    }\n",
       "</style>\n",
       "<table border=\"1\" class=\"dataframe\">\n",
       "  <thead>\n",
       "    <tr style=\"text-align: right;\">\n",
       "      <th></th>\n",
       "      <th>Sentence</th>\n",
       "      <th>Polarity</th>\n",
       "      <th>review_length</th>\n",
       "    </tr>\n",
       "  </thead>\n",
       "  <tbody>\n",
       "    <tr>\n",
       "      <th>26</th>\n",
       "      <td>#NAME?</td>\n",
       "      <td>0</td>\n",
       "      <td>1</td>\n",
       "    </tr>\n",
       "    <tr>\n",
       "      <th>71</th>\n",
       "      <td>#NAME?</td>\n",
       "      <td>1</td>\n",
       "      <td>1</td>\n",
       "    </tr>\n",
       "    <tr>\n",
       "      <th>165</th>\n",
       "      <td>DELICIOUS!!</td>\n",
       "      <td>1</td>\n",
       "      <td>1</td>\n",
       "    </tr>\n",
       "    <tr>\n",
       "      <th>219</th>\n",
       "      <td>#NAME?</td>\n",
       "      <td>1</td>\n",
       "      <td>1</td>\n",
       "    </tr>\n",
       "    <tr>\n",
       "      <th>904</th>\n",
       "      <td>#NAME?</td>\n",
       "      <td>0</td>\n",
       "      <td>1</td>\n",
       "    </tr>\n",
       "    <tr>\n",
       "      <th>1185</th>\n",
       "      <td>Incredible!.</td>\n",
       "      <td>1</td>\n",
       "      <td>1</td>\n",
       "    </tr>\n",
       "    <tr>\n",
       "      <th>1463</th>\n",
       "      <td>Disappointed!.</td>\n",
       "      <td>0</td>\n",
       "      <td>1</td>\n",
       "    </tr>\n",
       "    <tr>\n",
       "      <th>1751</th>\n",
       "      <td>disappointing.</td>\n",
       "      <td>0</td>\n",
       "      <td>1</td>\n",
       "    </tr>\n",
       "    <tr>\n",
       "      <th>1777</th>\n",
       "      <td>WORTHWHILE.</td>\n",
       "      <td>1</td>\n",
       "      <td>1</td>\n",
       "    </tr>\n",
       "    <tr>\n",
       "      <th>1877</th>\n",
       "      <td>Excellent!.</td>\n",
       "      <td>1</td>\n",
       "      <td>1</td>\n",
       "    </tr>\n",
       "    <tr>\n",
       "      <th>1993</th>\n",
       "      <td>disappointed.</td>\n",
       "      <td>0</td>\n",
       "      <td>1</td>\n",
       "    </tr>\n",
       "    <tr>\n",
       "      <th>2124</th>\n",
       "      <td>Brilliant!</td>\n",
       "      <td>1</td>\n",
       "      <td>1</td>\n",
       "    </tr>\n",
       "    <tr>\n",
       "      <th>2125</th>\n",
       "      <td>10-Oct</td>\n",
       "      <td>1</td>\n",
       "      <td>1</td>\n",
       "    </tr>\n",
       "    <tr>\n",
       "      <th>2155</th>\n",
       "      <td>Horrible!</td>\n",
       "      <td>0</td>\n",
       "      <td>1</td>\n",
       "    </tr>\n",
       "    <tr>\n",
       "      <th>2162</th>\n",
       "      <td>Awful.</td>\n",
       "      <td>0</td>\n",
       "      <td>1</td>\n",
       "    </tr>\n",
       "  </tbody>\n",
       "</table>\n",
       "</div>"
      ],
      "text/plain": [
       "            Sentence  Polarity  review_length\n",
       "26            #NAME?         0              1\n",
       "71            #NAME?         1              1\n",
       "165      DELICIOUS!!         1              1\n",
       "219           #NAME?         1              1\n",
       "904           #NAME?         0              1\n",
       "1185    Incredible!.         1              1\n",
       "1463  Disappointed!.         0              1\n",
       "1751  disappointing.         0              1\n",
       "1777     WORTHWHILE.         1              1\n",
       "1877     Excellent!.         1              1\n",
       "1993   disappointed.         0              1\n",
       "2124    Brilliant!           1              1\n",
       "2125          10-Oct         1              1\n",
       "2155     Horrible!           0              1\n",
       "2162        Awful.           0              1"
      ]
     },
     "execution_count": 195,
     "metadata": {},
     "output_type": "execute_result"
    }
   ],
   "source": [
    "createLengthCol(df_train,'Sentence')\n",
    "df_train[df_train.review_length==1]"
   ]
  },
  {
   "cell_type": "markdown",
   "metadata": {},
   "source": [
    "> We need to remove the rows with data as '#NAME?'"
   ]
  },
  {
   "cell_type": "code",
   "execution_count": 196,
   "metadata": {},
   "outputs": [],
   "source": [
    "df_train = df_train.drop(df_train[df_train.Sentence == \"#NAME?\"].index).reset_index(drop = True)"
   ]
  },
  {
   "cell_type": "code",
   "execution_count": 197,
   "metadata": {},
   "outputs": [
    {
     "data": {
      "text/html": [
       "<div>\n",
       "<style scoped>\n",
       "    .dataframe tbody tr th:only-of-type {\n",
       "        vertical-align: middle;\n",
       "    }\n",
       "\n",
       "    .dataframe tbody tr th {\n",
       "        vertical-align: top;\n",
       "    }\n",
       "\n",
       "    .dataframe thead th {\n",
       "        text-align: right;\n",
       "    }\n",
       "</style>\n",
       "<table border=\"1\" class=\"dataframe\">\n",
       "  <thead>\n",
       "    <tr style=\"text-align: right;\">\n",
       "      <th></th>\n",
       "      <th>Sentence</th>\n",
       "      <th>Polarity</th>\n",
       "      <th>review_length</th>\n",
       "    </tr>\n",
       "  </thead>\n",
       "  <tbody>\n",
       "    <tr>\n",
       "      <th>0</th>\n",
       "      <td>Wow... Loved this place.</td>\n",
       "      <td>1</td>\n",
       "      <td>4</td>\n",
       "    </tr>\n",
       "    <tr>\n",
       "      <th>1</th>\n",
       "      <td>Crust is not good.</td>\n",
       "      <td>0</td>\n",
       "      <td>4</td>\n",
       "    </tr>\n",
       "  </tbody>\n",
       "</table>\n",
       "</div>"
      ],
      "text/plain": [
       "                   Sentence  Polarity  review_length\n",
       "0  Wow... Loved this place.         1              4\n",
       "1        Crust is not good.         0              4"
      ]
     },
     "execution_count": 197,
     "metadata": {},
     "output_type": "execute_result"
    }
   ],
   "source": [
    "df_train.head(2)"
   ]
  },
  {
   "cell_type": "markdown",
   "metadata": {},
   "source": [
    "#### Method to clean data"
   ]
  },
  {
   "cell_type": "code",
   "execution_count": 198,
   "metadata": {},
   "outputs": [],
   "source": [
    "#Method to clean data\n",
    "#Remove punctuations\n",
    "#Remove numbers\n",
    "#Lowercase the string\n",
    "#Split the strings on white spaces\n",
    "#Remove Stopwords\n",
    "#Lemmatization\n",
    "\n",
    "lemmatizer = WordNetLemmatizer()\n",
    "def text_cleaner(text):\n",
    "    r = re.sub(r'[^\\w\\s]', ' ', text)\n",
    "    r = r.translate(str.maketrans(\"\",\"\",string.punctuation)) \n",
    "    r = re.sub(r'\\d+', '',r) \n",
    "    r = r.lower()\n",
    "    r = r.split()\n",
    "    r = [word for word in r if word not in stopwords.words('english')]\n",
    "    r = [lemmatizer.lemmatize(word) for word in r]\n",
    "    r = ' '.join(r)\n",
    "    return r"
   ]
  },
  {
   "cell_type": "code",
   "execution_count": 199,
   "metadata": {},
   "outputs": [],
   "source": [
    "df_train['clean_sentence'] = df_train.Sentence.apply(lambda text:text_cleaner(text))\n",
    "createLengthCol(df_train,'clean_sentence')"
   ]
  },
  {
   "cell_type": "markdown",
   "metadata": {},
   "source": [
    "#### Separate Features with Label"
   ]
  },
  {
   "cell_type": "code",
   "execution_count": 200,
   "metadata": {},
   "outputs": [],
   "source": [
    "X = df_train.drop(columns  = [\"Polarity\"])\n",
    "y = df_train.Polarity"
   ]
  },
  {
   "cell_type": "markdown",
   "metadata": {},
   "source": [
    "#### Apply TF-IDF on cleaned sentence feature"
   ]
  },
  {
   "cell_type": "code",
   "execution_count": 201,
   "metadata": {},
   "outputs": [],
   "source": [
    "cv = CountVectorizer()\n",
    "X_cv = cv.fit_transform(X.clean_sentence)"
   ]
  },
  {
   "cell_type": "code",
   "execution_count": 202,
   "metadata": {},
   "outputs": [],
   "source": [
    "X = pd.concat([X,pd.DataFrame(data=X_cv.toarray(), columns = cv.get_feature_names())],axis = 1).drop(columns = ['Sentence','clean_sentence'])"
   ]
  },
  {
   "cell_type": "markdown",
   "metadata": {},
   "source": [
    "#### Preprocessing on Test"
   ]
  },
  {
   "cell_type": "code",
   "execution_count": 203,
   "metadata": {},
   "outputs": [
    {
     "data": {
      "text/html": [
       "<div>\n",
       "<style scoped>\n",
       "    .dataframe tbody tr th:only-of-type {\n",
       "        vertical-align: middle;\n",
       "    }\n",
       "\n",
       "    .dataframe tbody tr th {\n",
       "        vertical-align: top;\n",
       "    }\n",
       "\n",
       "    .dataframe thead th {\n",
       "        text-align: right;\n",
       "    }\n",
       "</style>\n",
       "<table border=\"1\" class=\"dataframe\">\n",
       "  <thead>\n",
       "    <tr style=\"text-align: right;\">\n",
       "      <th></th>\n",
       "      <th>Sentence</th>\n",
       "      <th>Polarity</th>\n",
       "    </tr>\n",
       "  </thead>\n",
       "  <tbody>\n",
       "    <tr>\n",
       "      <th>0</th>\n",
       "      <td>A good commentary of today's love and undoubte...</td>\n",
       "      <td>1</td>\n",
       "    </tr>\n",
       "    <tr>\n",
       "      <th>1</th>\n",
       "      <td>For people who are first timers in film making...</td>\n",
       "      <td>1</td>\n",
       "    </tr>\n",
       "  </tbody>\n",
       "</table>\n",
       "</div>"
      ],
      "text/plain": [
       "                                            Sentence  Polarity\n",
       "0  A good commentary of today's love and undoubte...         1\n",
       "1  For people who are first timers in film making...         1"
      ]
     },
     "execution_count": 203,
     "metadata": {},
     "output_type": "execute_result"
    }
   ],
   "source": [
    "df_test.head(2)"
   ]
  },
  {
   "cell_type": "code",
   "execution_count": 204,
   "metadata": {},
   "outputs": [
    {
     "name": "stdout",
     "output_type": "stream",
     "text": [
      "    Sentence  Polarity  review_length\n",
      "388   10-Oct         1              1\n"
     ]
    }
   ],
   "source": [
    "createLengthCol(df_test,'Sentence')\n",
    "print(df_test[df_test.review_length==1])\n",
    "df_test['clean_sentence'] = df_test.Sentence.apply(lambda text:text_cleaner(text))\n",
    "createLengthCol(df_test,'clean_sentence')"
   ]
  },
  {
   "cell_type": "code",
   "execution_count": 205,
   "metadata": {},
   "outputs": [],
   "source": [
    "X_test = df_test.drop(columns  = [\"Polarity\"])\n",
    "y_test = df_test.Polarity"
   ]
  },
  {
   "cell_type": "code",
   "execution_count": 206,
   "metadata": {},
   "outputs": [],
   "source": [
    "X_test_cv = cv.transform(X_test.clean_sentence)\n",
    "X_test = pd.concat([X_test,pd.DataFrame(data=X_test_cv.toarray(), columns = cv.get_feature_names())],axis = 1).drop(columns = ['Sentence','clean_sentence'])"
   ]
  },
  {
   "cell_type": "code",
   "execution_count": 207,
   "metadata": {},
   "outputs": [
    {
     "data": {
      "text/html": [
       "<div>\n",
       "<style scoped>\n",
       "    .dataframe tbody tr th:only-of-type {\n",
       "        vertical-align: middle;\n",
       "    }\n",
       "\n",
       "    .dataframe tbody tr th {\n",
       "        vertical-align: top;\n",
       "    }\n",
       "\n",
       "    .dataframe thead th {\n",
       "        text-align: right;\n",
       "    }\n",
       "</style>\n",
       "<table border=\"1\" class=\"dataframe\">\n",
       "  <thead>\n",
       "    <tr style=\"text-align: right;\">\n",
       "      <th></th>\n",
       "      <th>review_length</th>\n",
       "      <th>abhor</th>\n",
       "      <th>ability</th>\n",
       "      <th>able</th>\n",
       "      <th>abound</th>\n",
       "      <th>absolute</th>\n",
       "      <th>absolutel</th>\n",
       "      <th>absolutely</th>\n",
       "      <th>absolutley</th>\n",
       "      <th>abstruse</th>\n",
       "      <th>...</th>\n",
       "      <th>yet</th>\n",
       "      <th>young</th>\n",
       "      <th>youthful</th>\n",
       "      <th>yucky</th>\n",
       "      <th>yukon</th>\n",
       "      <th>yum</th>\n",
       "      <th>yummy</th>\n",
       "      <th>za</th>\n",
       "      <th>zero</th>\n",
       "      <th>zombiez</th>\n",
       "    </tr>\n",
       "  </thead>\n",
       "  <tbody>\n",
       "    <tr>\n",
       "      <th>0</th>\n",
       "      <td>8</td>\n",
       "      <td>0</td>\n",
       "      <td>0</td>\n",
       "      <td>0</td>\n",
       "      <td>0</td>\n",
       "      <td>0</td>\n",
       "      <td>0</td>\n",
       "      <td>0</td>\n",
       "      <td>0</td>\n",
       "      <td>0</td>\n",
       "      <td>...</td>\n",
       "      <td>0</td>\n",
       "      <td>0</td>\n",
       "      <td>0</td>\n",
       "      <td>0</td>\n",
       "      <td>0</td>\n",
       "      <td>0</td>\n",
       "      <td>0</td>\n",
       "      <td>0</td>\n",
       "      <td>0</td>\n",
       "      <td>0</td>\n",
       "    </tr>\n",
       "    <tr>\n",
       "      <th>1</th>\n",
       "      <td>8</td>\n",
       "      <td>0</td>\n",
       "      <td>0</td>\n",
       "      <td>0</td>\n",
       "      <td>0</td>\n",
       "      <td>0</td>\n",
       "      <td>0</td>\n",
       "      <td>0</td>\n",
       "      <td>0</td>\n",
       "      <td>0</td>\n",
       "      <td>...</td>\n",
       "      <td>0</td>\n",
       "      <td>0</td>\n",
       "      <td>0</td>\n",
       "      <td>0</td>\n",
       "      <td>0</td>\n",
       "      <td>0</td>\n",
       "      <td>0</td>\n",
       "      <td>0</td>\n",
       "      <td>0</td>\n",
       "      <td>0</td>\n",
       "    </tr>\n",
       "  </tbody>\n",
       "</table>\n",
       "<p>2 rows × 3499 columns</p>\n",
       "</div>"
      ],
      "text/plain": [
       "   review_length  abhor  ability  able  abound  absolute  absolutel  \\\n",
       "0              8      0        0     0       0         0          0   \n",
       "1              8      0        0     0       0         0          0   \n",
       "\n",
       "   absolutely  absolutley  abstruse  ...  yet  young  youthful  yucky  yukon  \\\n",
       "0           0           0         0  ...    0      0         0      0      0   \n",
       "1           0           0         0  ...    0      0         0      0      0   \n",
       "\n",
       "   yum  yummy  za  zero  zombiez  \n",
       "0    0      0   0     0        0  \n",
       "1    0      0   0     0        0  \n",
       "\n",
       "[2 rows x 3499 columns]"
      ]
     },
     "execution_count": 207,
     "metadata": {},
     "output_type": "execute_result"
    }
   ],
   "source": [
    "X_test.head(2)"
   ]
  },
  {
   "cell_type": "markdown",
   "metadata": {},
   "source": [
    "### Part 1.b. Modeling\n",
    "\n",
    "Use your favorite ML algorithm to train a classification model.  Don’t forget everything that we’ve learned in our ML course: hyperparameter tuning, cross validation, handling imbalanced data, etc. Make reasonable decisions and try to create the best-performing classifier that you can."
   ]
  },
  {
   "cell_type": "markdown",
   "metadata": {},
   "source": [
    "#### Logistic Regression base model with 10 fold Cross Validation"
   ]
  },
  {
   "cell_type": "code",
   "execution_count": 208,
   "metadata": {
    "scrolled": true
   },
   "outputs": [],
   "source": [
    "lr = LogisticRegression()\n",
    "\n",
    "scoring = {'acc': 'accuracy',\n",
    "           'prec_macro': 'precision_macro',\n",
    "           'rec_micro': 'recall_macro',\n",
    "           'f1_macr':'f1_macro',\n",
    "           'roc_auc':'roc_auc'}\n",
    "scores = pd.DataFrame(cross_validate(lr, X=X, y=y,scoring=scoring, cv=10, n_jobs=-1))"
   ]
  },
  {
   "cell_type": "code",
   "execution_count": 209,
   "metadata": {
    "scrolled": true
   },
   "outputs": [
    {
     "data": {
      "text/plain": [
       "9    0.736709\n",
       "8    0.740556\n",
       "0    0.749844\n",
       "6    0.772910\n",
       "3    0.787467\n",
       "1    0.789562\n",
       "4    0.820756\n",
       "2    0.829021\n",
       "5    0.829021\n",
       "7    0.840532\n",
       "Name: test_f1_macr, dtype: float64"
      ]
     },
     "execution_count": 209,
     "metadata": {},
     "output_type": "execute_result"
    }
   ],
   "source": [
    "scores.test_f1_macr.sort_values()"
   ]
  },
  {
   "cell_type": "code",
   "execution_count": 210,
   "metadata": {},
   "outputs": [
    {
     "data": {
      "text/plain": [
       "LogisticRegression(C=1.0, class_weight=None, dual=False, fit_intercept=True,\n",
       "                   intercept_scaling=1, l1_ratio=None, max_iter=100,\n",
       "                   multi_class='auto', n_jobs=None, penalty='l2',\n",
       "                   random_state=None, solver='lbfgs', tol=0.0001, verbose=0,\n",
       "                   warm_start=False)"
      ]
     },
     "execution_count": 210,
     "metadata": {},
     "output_type": "execute_result"
    }
   ],
   "source": [
    "lr.fit(X,y)"
   ]
  },
  {
   "cell_type": "markdown",
   "metadata": {},
   "source": [
    "#### Logistic Regression Hyperparameter Tuned Model"
   ]
  },
  {
   "cell_type": "code",
   "execution_count": 215,
   "metadata": {},
   "outputs": [
    {
     "name": "stdout",
     "output_type": "stream",
     "text": [
      "Best Score: 0.7896377815616248\n",
      "Best Hyperparameters: {'C': 1, 'penalty': 'l2', 'solver': 'newton-cg'}\n"
     ]
    }
   ],
   "source": [
    "param_dict = {\n",
    "'solver' : ['newton-cg', 'lbfgs', 'liblinear'],\n",
    "'penalty' : ['none', 'l1', 'l2', 'elasticnet'],\n",
    "'C' : [1e-5, 1e-4, 1e-3, 1e-2, 1e-1, 1, 10, 100]    \n",
    "}\n",
    "\n",
    "# define search\n",
    "search = GridSearchCV(lr, param_dict, scoring='f1_macro', n_jobs=-1, cv=10)\n",
    "# execute search\n",
    "result = search.fit(X, y)\n",
    "# summarize result\n",
    "print('Best Score: %s' % result.best_score_)\n",
    "print('Best Hyperparameters: %s' % result.best_params_)"
   ]
  },
  {
   "cell_type": "code",
   "execution_count": 219,
   "metadata": {},
   "outputs": [
    {
     "data": {
      "text/html": [
       "<div>\n",
       "<style scoped>\n",
       "    .dataframe tbody tr th:only-of-type {\n",
       "        vertical-align: middle;\n",
       "    }\n",
       "\n",
       "    .dataframe tbody tr th {\n",
       "        vertical-align: top;\n",
       "    }\n",
       "\n",
       "    .dataframe thead th {\n",
       "        text-align: right;\n",
       "    }\n",
       "</style>\n",
       "<table border=\"1\" class=\"dataframe\">\n",
       "  <thead>\n",
       "    <tr style=\"text-align: right;\">\n",
       "      <th></th>\n",
       "      <th>fit_time</th>\n",
       "      <th>score_time</th>\n",
       "      <th>test_acc</th>\n",
       "      <th>test_prec_macro</th>\n",
       "      <th>test_rec_micro</th>\n",
       "      <th>test_f1_macr</th>\n",
       "      <th>test_roc_auc</th>\n",
       "    </tr>\n",
       "  </thead>\n",
       "  <tbody>\n",
       "    <tr>\n",
       "      <th>0</th>\n",
       "      <td>5.996212</td>\n",
       "      <td>0.155026</td>\n",
       "      <td>0.750000</td>\n",
       "      <td>0.750261</td>\n",
       "      <td>0.749844</td>\n",
       "      <td>0.749844</td>\n",
       "      <td>0.863115</td>\n",
       "    </tr>\n",
       "    <tr>\n",
       "      <th>1</th>\n",
       "      <td>6.070194</td>\n",
       "      <td>0.127702</td>\n",
       "      <td>0.791667</td>\n",
       "      <td>0.801961</td>\n",
       "      <td>0.790888</td>\n",
       "      <td>0.789562</td>\n",
       "      <td>0.878742</td>\n",
       "    </tr>\n",
       "    <tr>\n",
       "      <th>2</th>\n",
       "      <td>5.958574</td>\n",
       "      <td>0.168687</td>\n",
       "      <td>0.829167</td>\n",
       "      <td>0.829783</td>\n",
       "      <td>0.828981</td>\n",
       "      <td>0.829021</td>\n",
       "      <td>0.902702</td>\n",
       "    </tr>\n",
       "    <tr>\n",
       "      <th>3</th>\n",
       "      <td>5.720132</td>\n",
       "      <td>0.289310</td>\n",
       "      <td>0.787500</td>\n",
       "      <td>0.787959</td>\n",
       "      <td>0.787659</td>\n",
       "      <td>0.787467</td>\n",
       "      <td>0.872422</td>\n",
       "    </tr>\n",
       "    <tr>\n",
       "      <th>4</th>\n",
       "      <td>5.387379</td>\n",
       "      <td>0.259070</td>\n",
       "      <td>0.820833</td>\n",
       "      <td>0.821846</td>\n",
       "      <td>0.821064</td>\n",
       "      <td>0.820756</td>\n",
       "      <td>0.915966</td>\n",
       "    </tr>\n",
       "    <tr>\n",
       "      <th>5</th>\n",
       "      <td>5.310086</td>\n",
       "      <td>0.205536</td>\n",
       "      <td>0.829167</td>\n",
       "      <td>0.829391</td>\n",
       "      <td>0.828911</td>\n",
       "      <td>0.829021</td>\n",
       "      <td>0.907335</td>\n",
       "    </tr>\n",
       "    <tr>\n",
       "      <th>6</th>\n",
       "      <td>5.865655</td>\n",
       "      <td>0.236186</td>\n",
       "      <td>0.774059</td>\n",
       "      <td>0.777920</td>\n",
       "      <td>0.773288</td>\n",
       "      <td>0.772910</td>\n",
       "      <td>0.864407</td>\n",
       "    </tr>\n",
       "    <tr>\n",
       "      <th>7</th>\n",
       "      <td>5.763474</td>\n",
       "      <td>0.236005</td>\n",
       "      <td>0.841004</td>\n",
       "      <td>0.843582</td>\n",
       "      <td>0.840454</td>\n",
       "      <td>0.840532</td>\n",
       "      <td>0.885278</td>\n",
       "    </tr>\n",
       "    <tr>\n",
       "      <th>8</th>\n",
       "      <td>2.942499</td>\n",
       "      <td>0.131701</td>\n",
       "      <td>0.748954</td>\n",
       "      <td>0.780618</td>\n",
       "      <td>0.746813</td>\n",
       "      <td>0.740556</td>\n",
       "      <td>0.810618</td>\n",
       "    </tr>\n",
       "    <tr>\n",
       "      <th>9</th>\n",
       "      <td>3.115625</td>\n",
       "      <td>0.092872</td>\n",
       "      <td>0.740586</td>\n",
       "      <td>0.752514</td>\n",
       "      <td>0.739179</td>\n",
       "      <td>0.736709</td>\n",
       "      <td>0.797276</td>\n",
       "    </tr>\n",
       "  </tbody>\n",
       "</table>\n",
       "</div>"
      ],
      "text/plain": [
       "   fit_time  score_time  test_acc  test_prec_macro  test_rec_micro  \\\n",
       "0  5.996212    0.155026  0.750000         0.750261        0.749844   \n",
       "1  6.070194    0.127702  0.791667         0.801961        0.790888   \n",
       "2  5.958574    0.168687  0.829167         0.829783        0.828981   \n",
       "3  5.720132    0.289310  0.787500         0.787959        0.787659   \n",
       "4  5.387379    0.259070  0.820833         0.821846        0.821064   \n",
       "5  5.310086    0.205536  0.829167         0.829391        0.828911   \n",
       "6  5.865655    0.236186  0.774059         0.777920        0.773288   \n",
       "7  5.763474    0.236005  0.841004         0.843582        0.840454   \n",
       "8  2.942499    0.131701  0.748954         0.780618        0.746813   \n",
       "9  3.115625    0.092872  0.740586         0.752514        0.739179   \n",
       "\n",
       "   test_f1_macr  test_roc_auc  \n",
       "0      0.749844      0.863115  \n",
       "1      0.789562      0.878742  \n",
       "2      0.829021      0.902702  \n",
       "3      0.787467      0.872422  \n",
       "4      0.820756      0.915966  \n",
       "5      0.829021      0.907335  \n",
       "6      0.772910      0.864407  \n",
       "7      0.840532      0.885278  \n",
       "8      0.740556      0.810618  \n",
       "9      0.736709      0.797276  "
      ]
     },
     "execution_count": 219,
     "metadata": {},
     "output_type": "execute_result"
    }
   ],
   "source": [
    "lr_tuned = LogisticRegression(C=1, penalty='l2',solver='newton-cg')\n",
    "scores_tuned = pd.DataFrame(cross_validate(lr_tuned, X=X, y=y,scoring=scoring, cv=10, n_jobs=-1))\n",
    "scores_tuned"
   ]
  },
  {
   "cell_type": "code",
   "execution_count": 220,
   "metadata": {},
   "outputs": [
    {
     "data": {
      "text/plain": [
       "LogisticRegression(C=1, class_weight=None, dual=False, fit_intercept=True,\n",
       "                   intercept_scaling=1, l1_ratio=None, max_iter=100,\n",
       "                   multi_class='auto', n_jobs=None, penalty='l2',\n",
       "                   random_state=None, solver='newton-cg', tol=0.0001, verbose=0,\n",
       "                   warm_start=False)"
      ]
     },
     "execution_count": 220,
     "metadata": {},
     "output_type": "execute_result"
    }
   ],
   "source": [
    "lr_tuned.fit(X,y)"
   ]
  },
  {
   "cell_type": "markdown",
   "metadata": {},
   "source": [
    "### Part 1.c. Assessing\n",
    "\n",
    "Use the testing data to measure the accuracy and F1-score of your model.  "
   ]
  },
  {
   "cell_type": "code",
   "execution_count": 211,
   "metadata": {},
   "outputs": [],
   "source": [
    "predictions = lr.predict(X_test)"
   ]
  },
  {
   "cell_type": "code",
   "execution_count": 212,
   "metadata": {},
   "outputs": [
    {
     "data": {
      "text/plain": [
       "array([[254,  33],\n",
       "       [112, 201]])"
      ]
     },
     "execution_count": 212,
     "metadata": {},
     "output_type": "execute_result"
    }
   ],
   "source": [
    "metrics.confusion_matrix(y_test,predictions)"
   ]
  },
  {
   "cell_type": "code",
   "execution_count": 213,
   "metadata": {
    "scrolled": true
   },
   "outputs": [
    {
     "name": "stdout",
     "output_type": "stream",
     "text": [
      "              precision    recall  f1-score   support\n",
      "\n",
      "           0       0.69      0.89      0.78       287\n",
      "           1       0.86      0.64      0.73       313\n",
      "\n",
      "    accuracy                           0.76       600\n",
      "   macro avg       0.78      0.76      0.76       600\n",
      "weighted avg       0.78      0.76      0.76       600\n",
      "\n"
     ]
    }
   ],
   "source": [
    "print(classification_report(y_test,predictions))"
   ]
  },
  {
   "cell_type": "markdown",
   "metadata": {},
   "source": [
    "#### After Hyperparameter Tuning"
   ]
  },
  {
   "cell_type": "code",
   "execution_count": 221,
   "metadata": {},
   "outputs": [
    {
     "name": "stdout",
     "output_type": "stream",
     "text": [
      "[[254  33]\n",
      " [112 201]]\n",
      "              precision    recall  f1-score   support\n",
      "\n",
      "           0       0.69      0.89      0.78       287\n",
      "           1       0.86      0.64      0.73       313\n",
      "\n",
      "    accuracy                           0.76       600\n",
      "   macro avg       0.78      0.76      0.76       600\n",
      "weighted avg       0.78      0.76      0.76       600\n",
      "\n"
     ]
    }
   ],
   "source": [
    "tuned_predictions = lr_tuned.predict(X_test)\n",
    "print(metrics.confusion_matrix(y_test,tuned_predictions))\n",
    "print(classification_report(y_test,tuned_predictions))"
   ]
  },
  {
   "cell_type": "code",
   "execution_count": 222,
   "metadata": {},
   "outputs": [
    {
     "data": {
      "text/html": [
       "<div>\n",
       "<style scoped>\n",
       "    .dataframe tbody tr th:only-of-type {\n",
       "        vertical-align: middle;\n",
       "    }\n",
       "\n",
       "    .dataframe tbody tr th {\n",
       "        vertical-align: top;\n",
       "    }\n",
       "\n",
       "    .dataframe thead th {\n",
       "        text-align: right;\n",
       "    }\n",
       "</style>\n",
       "<table border=\"1\" class=\"dataframe\">\n",
       "  <thead>\n",
       "    <tr style=\"text-align: right;\">\n",
       "      <th></th>\n",
       "      <th>Sentence</th>\n",
       "      <th>Polarity</th>\n",
       "      <th>review_length</th>\n",
       "      <th>clean_sentence</th>\n",
       "      <th>predictions</th>\n",
       "    </tr>\n",
       "  </thead>\n",
       "  <tbody>\n",
       "    <tr>\n",
       "      <th>4</th>\n",
       "      <td>It has northern humour and positive about the ...</td>\n",
       "      <td>1</td>\n",
       "      <td>5</td>\n",
       "      <td>northern humour positive community represents</td>\n",
       "      <td>0</td>\n",
       "    </tr>\n",
       "    <tr>\n",
       "      <th>8</th>\n",
       "      <td>It really created a unique feeling though.</td>\n",
       "      <td>1</td>\n",
       "      <td>5</td>\n",
       "      <td>really created unique feeling though</td>\n",
       "      <td>0</td>\n",
       "    </tr>\n",
       "    <tr>\n",
       "      <th>12</th>\n",
       "      <td>Not too screamy not to masculine but just righ...</td>\n",
       "      <td>1</td>\n",
       "      <td>3</td>\n",
       "      <td>screamy masculine right</td>\n",
       "      <td>0</td>\n",
       "    </tr>\n",
       "    <tr>\n",
       "      <th>13</th>\n",
       "      <td>The camera really likes her in this movie.</td>\n",
       "      <td>1</td>\n",
       "      <td>4</td>\n",
       "      <td>camera really like movie</td>\n",
       "      <td>0</td>\n",
       "    </tr>\n",
       "    <tr>\n",
       "      <th>14</th>\n",
       "      <td>I would have casted her in that role after rea...</td>\n",
       "      <td>1</td>\n",
       "      <td>5</td>\n",
       "      <td>would casted role ready script</td>\n",
       "      <td>0</td>\n",
       "    </tr>\n",
       "    <tr>\n",
       "      <th>...</th>\n",
       "      <td>...</td>\n",
       "      <td>...</td>\n",
       "      <td>...</td>\n",
       "      <td>...</td>\n",
       "      <td>...</td>\n",
       "    </tr>\n",
       "    <tr>\n",
       "      <th>581</th>\n",
       "      <td>I keep watching it over and over.</td>\n",
       "      <td>1</td>\n",
       "      <td>2</td>\n",
       "      <td>keep watching</td>\n",
       "      <td>0</td>\n",
       "    </tr>\n",
       "    <tr>\n",
       "      <th>584</th>\n",
       "      <td>She is as lovely as usual, this cutie!</td>\n",
       "      <td>1</td>\n",
       "      <td>3</td>\n",
       "      <td>lovely usual cutie</td>\n",
       "      <td>0</td>\n",
       "    </tr>\n",
       "    <tr>\n",
       "      <th>588</th>\n",
       "      <td>It was a riot to see Hugo Weaving play a sex-o...</td>\n",
       "      <td>1</td>\n",
       "      <td>19</td>\n",
       "      <td>riot see hugo weaving play sex obsessed gay re...</td>\n",
       "      <td>0</td>\n",
       "    </tr>\n",
       "    <tr>\n",
       "      <th>589</th>\n",
       "      <td>:) Anyway, the plot flowed smoothly and the ma...</td>\n",
       "      <td>1</td>\n",
       "      <td>8</td>\n",
       "      <td>anyway plot flowed smoothly male bonding scene...</td>\n",
       "      <td>0</td>\n",
       "    </tr>\n",
       "    <tr>\n",
       "      <th>591</th>\n",
       "      <td>Fans of the genre will be in heaven.</td>\n",
       "      <td>1</td>\n",
       "      <td>3</td>\n",
       "      <td>fan genre heaven</td>\n",
       "      <td>0</td>\n",
       "    </tr>\n",
       "  </tbody>\n",
       "</table>\n",
       "<p>145 rows × 5 columns</p>\n",
       "</div>"
      ],
      "text/plain": [
       "                                              Sentence  Polarity  \\\n",
       "4    It has northern humour and positive about the ...         1   \n",
       "8         It really created a unique feeling though.           1   \n",
       "12   Not too screamy not to masculine but just righ...         1   \n",
       "13        The camera really likes her in this movie.           1   \n",
       "14   I would have casted her in that role after rea...         1   \n",
       "..                                                 ...       ...   \n",
       "581                I keep watching it over and over.           1   \n",
       "584           She is as lovely as usual, this cutie!           1   \n",
       "588  It was a riot to see Hugo Weaving play a sex-o...         1   \n",
       "589  :) Anyway, the plot flowed smoothly and the ma...         1   \n",
       "591             Fans of the genre will be in heaven.           1   \n",
       "\n",
       "     review_length                                     clean_sentence  \\\n",
       "4                5      northern humour positive community represents   \n",
       "8                5               really created unique feeling though   \n",
       "12               3                            screamy masculine right   \n",
       "13               4                           camera really like movie   \n",
       "14               5                     would casted role ready script   \n",
       "..             ...                                                ...   \n",
       "581              2                                      keep watching   \n",
       "584              3                                 lovely usual cutie   \n",
       "588             19  riot see hugo weaving play sex obsessed gay re...   \n",
       "589              8  anyway plot flowed smoothly male bonding scene...   \n",
       "591              3                                   fan genre heaven   \n",
       "\n",
       "     predictions  \n",
       "4              0  \n",
       "8              0  \n",
       "12             0  \n",
       "13             0  \n",
       "14             0  \n",
       "..           ...  \n",
       "581            0  \n",
       "584            0  \n",
       "588            0  \n",
       "589            0  \n",
       "591            0  \n",
       "\n",
       "[145 rows x 5 columns]"
      ]
     },
     "execution_count": 222,
     "metadata": {},
     "output_type": "execute_result"
    }
   ],
   "source": [
    "df_test_pred = df_test\n",
    "df_test_pred['predictions'] = tuned_predictions\n",
    "df_test_pred[df_test_pred.Polarity != predictions]"
   ]
  },
  {
   "cell_type": "markdown",
   "metadata": {},
   "source": [
    "### Part 2. Given the accuracy and F1-score of your model, are you satisfied with the results, from a business point of view? Explain."
   ]
  },
  {
   "cell_type": "markdown",
   "metadata": {},
   "source": [
    "- It really depends upon the problem which we are trying to solve using this model. \n",
    "- As accuracy, is simply the ratio of correctly predicted observations to the total observations. For our model, we have got accuracy of 76% which is reasonable, however, we would have to look other performance metric like F1-score to evaluate our model. \n",
    "- The F1 score is weighted average of precision and recall (or sensitivity). The precision metric answers the question that from the customers the model labeled as 1, how many actually were correctly labeled as 1. High precision is related to low false positive rates. Our precision is about 86% which is good. \n",
    "- On the other hand, Recall is the ratio of correctly predicted positive obersvations to all the observations in the actual class label=1. As mentioned above, our Recall is 69% which is reasonable, however, not as good as precision. Therefore, Recall is taking a hit on F1 score, which is 78%. \n",
    "- It interpretation can further be explained by confusion matrix below and we can see that False Negative are considerably higher in number as compared to False Positives.\n",
    "[[254  33]\n",
    " [112 201]]\n",
    "- Therefore, our model is predicting sentiment of 0 when actually the sentiment was 1. Hence, depending upon what is the use case of utilizing the negative sentiment, we would have to be careful in dealing with the negative values that this model is predicting."
   ]
  },
  {
   "cell_type": "markdown",
   "metadata": {},
   "source": [
    "### Part 3. Show five example instances in which your model’s predictions were incorrect. Describe why you think the model was wrong. Don’t just guess: dig deep to figure out the root cause."
   ]
  },
  {
   "cell_type": "markdown",
   "metadata": {},
   "source": [
    "TODO: Insert your answer here."
   ]
  },
  {
   "cell_type": "code",
   "execution_count": 55,
   "metadata": {},
   "outputs": [],
   "source": [
    "# TODO: Feel free to use code as well to answer this question. Or not. Up to you."
   ]
  },
  {
   "cell_type": "markdown",
   "metadata": {},
   "source": [
    "## TESTING PYCARET CLASSIFICATION"
   ]
  },
  {
   "cell_type": "code",
   "execution_count": 59,
   "metadata": {},
   "outputs": [],
   "source": [
    "X_pyc = X\n",
    "X_pyc['Polarity'] = y"
   ]
  },
  {
   "cell_type": "code",
   "execution_count": 60,
   "metadata": {},
   "outputs": [
    {
     "data": {
      "text/html": [
       "<style type=\"text/css\">\n",
       "#T_284bf_row44_col1 {\n",
       "  background-color: lightgreen;\n",
       "}\n",
       "</style>\n",
       "<table id=\"T_284bf_\">\n",
       "  <thead>\n",
       "    <tr>\n",
       "      <th class=\"blank level0\" >&nbsp;</th>\n",
       "      <th class=\"col_heading level0 col0\" >Description</th>\n",
       "      <th class=\"col_heading level0 col1\" >Value</th>\n",
       "    </tr>\n",
       "  </thead>\n",
       "  <tbody>\n",
       "    <tr>\n",
       "      <th id=\"T_284bf_level0_row0\" class=\"row_heading level0 row0\" >0</th>\n",
       "      <td id=\"T_284bf_row0_col0\" class=\"data row0 col0\" >session_id</td>\n",
       "      <td id=\"T_284bf_row0_col1\" class=\"data row0 col1\" >8185</td>\n",
       "    </tr>\n",
       "    <tr>\n",
       "      <th id=\"T_284bf_level0_row1\" class=\"row_heading level0 row1\" >1</th>\n",
       "      <td id=\"T_284bf_row1_col0\" class=\"data row1 col0\" >Target</td>\n",
       "      <td id=\"T_284bf_row1_col1\" class=\"data row1 col1\" >Polarity</td>\n",
       "    </tr>\n",
       "    <tr>\n",
       "      <th id=\"T_284bf_level0_row2\" class=\"row_heading level0 row2\" >2</th>\n",
       "      <td id=\"T_284bf_row2_col0\" class=\"data row2 col0\" >Target Type</td>\n",
       "      <td id=\"T_284bf_row2_col1\" class=\"data row2 col1\" >Binary</td>\n",
       "    </tr>\n",
       "    <tr>\n",
       "      <th id=\"T_284bf_level0_row3\" class=\"row_heading level0 row3\" >3</th>\n",
       "      <td id=\"T_284bf_row3_col0\" class=\"data row3 col0\" >Label Encoded</td>\n",
       "      <td id=\"T_284bf_row3_col1\" class=\"data row3 col1\" >None</td>\n",
       "    </tr>\n",
       "    <tr>\n",
       "      <th id=\"T_284bf_level0_row4\" class=\"row_heading level0 row4\" >4</th>\n",
       "      <td id=\"T_284bf_row4_col0\" class=\"data row4 col0\" >Original Data</td>\n",
       "      <td id=\"T_284bf_row4_col1\" class=\"data row4 col1\" >(2396, 3630)</td>\n",
       "    </tr>\n",
       "    <tr>\n",
       "      <th id=\"T_284bf_level0_row5\" class=\"row_heading level0 row5\" >5</th>\n",
       "      <td id=\"T_284bf_row5_col0\" class=\"data row5 col0\" >Missing Values</td>\n",
       "      <td id=\"T_284bf_row5_col1\" class=\"data row5 col1\" >False</td>\n",
       "    </tr>\n",
       "    <tr>\n",
       "      <th id=\"T_284bf_level0_row6\" class=\"row_heading level0 row6\" >6</th>\n",
       "      <td id=\"T_284bf_row6_col0\" class=\"data row6 col0\" >Numeric Features</td>\n",
       "      <td id=\"T_284bf_row6_col1\" class=\"data row6 col1\" >1</td>\n",
       "    </tr>\n",
       "    <tr>\n",
       "      <th id=\"T_284bf_level0_row7\" class=\"row_heading level0 row7\" >7</th>\n",
       "      <td id=\"T_284bf_row7_col0\" class=\"data row7 col0\" >Categorical Features</td>\n",
       "      <td id=\"T_284bf_row7_col1\" class=\"data row7 col1\" >3628</td>\n",
       "    </tr>\n",
       "    <tr>\n",
       "      <th id=\"T_284bf_level0_row8\" class=\"row_heading level0 row8\" >8</th>\n",
       "      <td id=\"T_284bf_row8_col0\" class=\"data row8 col0\" >Ordinal Features</td>\n",
       "      <td id=\"T_284bf_row8_col1\" class=\"data row8 col1\" >False</td>\n",
       "    </tr>\n",
       "    <tr>\n",
       "      <th id=\"T_284bf_level0_row9\" class=\"row_heading level0 row9\" >9</th>\n",
       "      <td id=\"T_284bf_row9_col0\" class=\"data row9 col0\" >High Cardinality Features</td>\n",
       "      <td id=\"T_284bf_row9_col1\" class=\"data row9 col1\" >False</td>\n",
       "    </tr>\n",
       "    <tr>\n",
       "      <th id=\"T_284bf_level0_row10\" class=\"row_heading level0 row10\" >10</th>\n",
       "      <td id=\"T_284bf_row10_col0\" class=\"data row10 col0\" >High Cardinality Method</td>\n",
       "      <td id=\"T_284bf_row10_col1\" class=\"data row10 col1\" >None</td>\n",
       "    </tr>\n",
       "    <tr>\n",
       "      <th id=\"T_284bf_level0_row11\" class=\"row_heading level0 row11\" >11</th>\n",
       "      <td id=\"T_284bf_row11_col0\" class=\"data row11 col0\" >Transformed Train Set</td>\n",
       "      <td id=\"T_284bf_row11_col1\" class=\"data row11 col1\" >(1677, 2540)</td>\n",
       "    </tr>\n",
       "    <tr>\n",
       "      <th id=\"T_284bf_level0_row12\" class=\"row_heading level0 row12\" >12</th>\n",
       "      <td id=\"T_284bf_row12_col0\" class=\"data row12 col0\" >Transformed Test Set</td>\n",
       "      <td id=\"T_284bf_row12_col1\" class=\"data row12 col1\" >(719, 2540)</td>\n",
       "    </tr>\n",
       "    <tr>\n",
       "      <th id=\"T_284bf_level0_row13\" class=\"row_heading level0 row13\" >13</th>\n",
       "      <td id=\"T_284bf_row13_col0\" class=\"data row13 col0\" >Shuffle Train-Test</td>\n",
       "      <td id=\"T_284bf_row13_col1\" class=\"data row13 col1\" >True</td>\n",
       "    </tr>\n",
       "    <tr>\n",
       "      <th id=\"T_284bf_level0_row14\" class=\"row_heading level0 row14\" >14</th>\n",
       "      <td id=\"T_284bf_row14_col0\" class=\"data row14 col0\" >Stratify Train-Test</td>\n",
       "      <td id=\"T_284bf_row14_col1\" class=\"data row14 col1\" >False</td>\n",
       "    </tr>\n",
       "    <tr>\n",
       "      <th id=\"T_284bf_level0_row15\" class=\"row_heading level0 row15\" >15</th>\n",
       "      <td id=\"T_284bf_row15_col0\" class=\"data row15 col0\" >Fold Generator</td>\n",
       "      <td id=\"T_284bf_row15_col1\" class=\"data row15 col1\" >StratifiedKFold</td>\n",
       "    </tr>\n",
       "    <tr>\n",
       "      <th id=\"T_284bf_level0_row16\" class=\"row_heading level0 row16\" >16</th>\n",
       "      <td id=\"T_284bf_row16_col0\" class=\"data row16 col0\" >Fold Number</td>\n",
       "      <td id=\"T_284bf_row16_col1\" class=\"data row16 col1\" >10</td>\n",
       "    </tr>\n",
       "    <tr>\n",
       "      <th id=\"T_284bf_level0_row17\" class=\"row_heading level0 row17\" >17</th>\n",
       "      <td id=\"T_284bf_row17_col0\" class=\"data row17 col0\" >CPU Jobs</td>\n",
       "      <td id=\"T_284bf_row17_col1\" class=\"data row17 col1\" >-1</td>\n",
       "    </tr>\n",
       "    <tr>\n",
       "      <th id=\"T_284bf_level0_row18\" class=\"row_heading level0 row18\" >18</th>\n",
       "      <td id=\"T_284bf_row18_col0\" class=\"data row18 col0\" >Use GPU</td>\n",
       "      <td id=\"T_284bf_row18_col1\" class=\"data row18 col1\" >False</td>\n",
       "    </tr>\n",
       "    <tr>\n",
       "      <th id=\"T_284bf_level0_row19\" class=\"row_heading level0 row19\" >19</th>\n",
       "      <td id=\"T_284bf_row19_col0\" class=\"data row19 col0\" >Log Experiment</td>\n",
       "      <td id=\"T_284bf_row19_col1\" class=\"data row19 col1\" >False</td>\n",
       "    </tr>\n",
       "    <tr>\n",
       "      <th id=\"T_284bf_level0_row20\" class=\"row_heading level0 row20\" >20</th>\n",
       "      <td id=\"T_284bf_row20_col0\" class=\"data row20 col0\" >Experiment Name</td>\n",
       "      <td id=\"T_284bf_row20_col1\" class=\"data row20 col1\" >clf-default-name</td>\n",
       "    </tr>\n",
       "    <tr>\n",
       "      <th id=\"T_284bf_level0_row21\" class=\"row_heading level0 row21\" >21</th>\n",
       "      <td id=\"T_284bf_row21_col0\" class=\"data row21 col0\" >USI</td>\n",
       "      <td id=\"T_284bf_row21_col1\" class=\"data row21 col1\" >1ee5</td>\n",
       "    </tr>\n",
       "    <tr>\n",
       "      <th id=\"T_284bf_level0_row22\" class=\"row_heading level0 row22\" >22</th>\n",
       "      <td id=\"T_284bf_row22_col0\" class=\"data row22 col0\" >Imputation Type</td>\n",
       "      <td id=\"T_284bf_row22_col1\" class=\"data row22 col1\" >simple</td>\n",
       "    </tr>\n",
       "    <tr>\n",
       "      <th id=\"T_284bf_level0_row23\" class=\"row_heading level0 row23\" >23</th>\n",
       "      <td id=\"T_284bf_row23_col0\" class=\"data row23 col0\" >Iterative Imputation Iteration</td>\n",
       "      <td id=\"T_284bf_row23_col1\" class=\"data row23 col1\" >None</td>\n",
       "    </tr>\n",
       "    <tr>\n",
       "      <th id=\"T_284bf_level0_row24\" class=\"row_heading level0 row24\" >24</th>\n",
       "      <td id=\"T_284bf_row24_col0\" class=\"data row24 col0\" >Numeric Imputer</td>\n",
       "      <td id=\"T_284bf_row24_col1\" class=\"data row24 col1\" >mean</td>\n",
       "    </tr>\n",
       "    <tr>\n",
       "      <th id=\"T_284bf_level0_row25\" class=\"row_heading level0 row25\" >25</th>\n",
       "      <td id=\"T_284bf_row25_col0\" class=\"data row25 col0\" >Iterative Imputation Numeric Model</td>\n",
       "      <td id=\"T_284bf_row25_col1\" class=\"data row25 col1\" >None</td>\n",
       "    </tr>\n",
       "    <tr>\n",
       "      <th id=\"T_284bf_level0_row26\" class=\"row_heading level0 row26\" >26</th>\n",
       "      <td id=\"T_284bf_row26_col0\" class=\"data row26 col0\" >Categorical Imputer</td>\n",
       "      <td id=\"T_284bf_row26_col1\" class=\"data row26 col1\" >constant</td>\n",
       "    </tr>\n",
       "    <tr>\n",
       "      <th id=\"T_284bf_level0_row27\" class=\"row_heading level0 row27\" >27</th>\n",
       "      <td id=\"T_284bf_row27_col0\" class=\"data row27 col0\" >Iterative Imputation Categorical Model</td>\n",
       "      <td id=\"T_284bf_row27_col1\" class=\"data row27 col1\" >None</td>\n",
       "    </tr>\n",
       "    <tr>\n",
       "      <th id=\"T_284bf_level0_row28\" class=\"row_heading level0 row28\" >28</th>\n",
       "      <td id=\"T_284bf_row28_col0\" class=\"data row28 col0\" >Unknown Categoricals Handling</td>\n",
       "      <td id=\"T_284bf_row28_col1\" class=\"data row28 col1\" >least_frequent</td>\n",
       "    </tr>\n",
       "    <tr>\n",
       "      <th id=\"T_284bf_level0_row29\" class=\"row_heading level0 row29\" >29</th>\n",
       "      <td id=\"T_284bf_row29_col0\" class=\"data row29 col0\" >Normalize</td>\n",
       "      <td id=\"T_284bf_row29_col1\" class=\"data row29 col1\" >False</td>\n",
       "    </tr>\n",
       "    <tr>\n",
       "      <th id=\"T_284bf_level0_row30\" class=\"row_heading level0 row30\" >30</th>\n",
       "      <td id=\"T_284bf_row30_col0\" class=\"data row30 col0\" >Normalize Method</td>\n",
       "      <td id=\"T_284bf_row30_col1\" class=\"data row30 col1\" >None</td>\n",
       "    </tr>\n",
       "    <tr>\n",
       "      <th id=\"T_284bf_level0_row31\" class=\"row_heading level0 row31\" >31</th>\n",
       "      <td id=\"T_284bf_row31_col0\" class=\"data row31 col0\" >Transformation</td>\n",
       "      <td id=\"T_284bf_row31_col1\" class=\"data row31 col1\" >False</td>\n",
       "    </tr>\n",
       "    <tr>\n",
       "      <th id=\"T_284bf_level0_row32\" class=\"row_heading level0 row32\" >32</th>\n",
       "      <td id=\"T_284bf_row32_col0\" class=\"data row32 col0\" >Transformation Method</td>\n",
       "      <td id=\"T_284bf_row32_col1\" class=\"data row32 col1\" >None</td>\n",
       "    </tr>\n",
       "    <tr>\n",
       "      <th id=\"T_284bf_level0_row33\" class=\"row_heading level0 row33\" >33</th>\n",
       "      <td id=\"T_284bf_row33_col0\" class=\"data row33 col0\" >PCA</td>\n",
       "      <td id=\"T_284bf_row33_col1\" class=\"data row33 col1\" >False</td>\n",
       "    </tr>\n",
       "    <tr>\n",
       "      <th id=\"T_284bf_level0_row34\" class=\"row_heading level0 row34\" >34</th>\n",
       "      <td id=\"T_284bf_row34_col0\" class=\"data row34 col0\" >PCA Method</td>\n",
       "      <td id=\"T_284bf_row34_col1\" class=\"data row34 col1\" >None</td>\n",
       "    </tr>\n",
       "    <tr>\n",
       "      <th id=\"T_284bf_level0_row35\" class=\"row_heading level0 row35\" >35</th>\n",
       "      <td id=\"T_284bf_row35_col0\" class=\"data row35 col0\" >PCA Components</td>\n",
       "      <td id=\"T_284bf_row35_col1\" class=\"data row35 col1\" >None</td>\n",
       "    </tr>\n",
       "    <tr>\n",
       "      <th id=\"T_284bf_level0_row36\" class=\"row_heading level0 row36\" >36</th>\n",
       "      <td id=\"T_284bf_row36_col0\" class=\"data row36 col0\" >Ignore Low Variance</td>\n",
       "      <td id=\"T_284bf_row36_col1\" class=\"data row36 col1\" >False</td>\n",
       "    </tr>\n",
       "    <tr>\n",
       "      <th id=\"T_284bf_level0_row37\" class=\"row_heading level0 row37\" >37</th>\n",
       "      <td id=\"T_284bf_row37_col0\" class=\"data row37 col0\" >Combine Rare Levels</td>\n",
       "      <td id=\"T_284bf_row37_col1\" class=\"data row37 col1\" >False</td>\n",
       "    </tr>\n",
       "    <tr>\n",
       "      <th id=\"T_284bf_level0_row38\" class=\"row_heading level0 row38\" >38</th>\n",
       "      <td id=\"T_284bf_row38_col0\" class=\"data row38 col0\" >Rare Level Threshold</td>\n",
       "      <td id=\"T_284bf_row38_col1\" class=\"data row38 col1\" >None</td>\n",
       "    </tr>\n",
       "    <tr>\n",
       "      <th id=\"T_284bf_level0_row39\" class=\"row_heading level0 row39\" >39</th>\n",
       "      <td id=\"T_284bf_row39_col0\" class=\"data row39 col0\" >Numeric Binning</td>\n",
       "      <td id=\"T_284bf_row39_col1\" class=\"data row39 col1\" >False</td>\n",
       "    </tr>\n",
       "    <tr>\n",
       "      <th id=\"T_284bf_level0_row40\" class=\"row_heading level0 row40\" >40</th>\n",
       "      <td id=\"T_284bf_row40_col0\" class=\"data row40 col0\" >Remove Outliers</td>\n",
       "      <td id=\"T_284bf_row40_col1\" class=\"data row40 col1\" >False</td>\n",
       "    </tr>\n",
       "    <tr>\n",
       "      <th id=\"T_284bf_level0_row41\" class=\"row_heading level0 row41\" >41</th>\n",
       "      <td id=\"T_284bf_row41_col0\" class=\"data row41 col0\" >Outliers Threshold</td>\n",
       "      <td id=\"T_284bf_row41_col1\" class=\"data row41 col1\" >None</td>\n",
       "    </tr>\n",
       "    <tr>\n",
       "      <th id=\"T_284bf_level0_row42\" class=\"row_heading level0 row42\" >42</th>\n",
       "      <td id=\"T_284bf_row42_col0\" class=\"data row42 col0\" >Remove Multicollinearity</td>\n",
       "      <td id=\"T_284bf_row42_col1\" class=\"data row42 col1\" >False</td>\n",
       "    </tr>\n",
       "    <tr>\n",
       "      <th id=\"T_284bf_level0_row43\" class=\"row_heading level0 row43\" >43</th>\n",
       "      <td id=\"T_284bf_row43_col0\" class=\"data row43 col0\" >Multicollinearity Threshold</td>\n",
       "      <td id=\"T_284bf_row43_col1\" class=\"data row43 col1\" >None</td>\n",
       "    </tr>\n",
       "    <tr>\n",
       "      <th id=\"T_284bf_level0_row44\" class=\"row_heading level0 row44\" >44</th>\n",
       "      <td id=\"T_284bf_row44_col0\" class=\"data row44 col0\" >Remove Perfect Collinearity</td>\n",
       "      <td id=\"T_284bf_row44_col1\" class=\"data row44 col1\" >True</td>\n",
       "    </tr>\n",
       "    <tr>\n",
       "      <th id=\"T_284bf_level0_row45\" class=\"row_heading level0 row45\" >45</th>\n",
       "      <td id=\"T_284bf_row45_col0\" class=\"data row45 col0\" >Clustering</td>\n",
       "      <td id=\"T_284bf_row45_col1\" class=\"data row45 col1\" >False</td>\n",
       "    </tr>\n",
       "    <tr>\n",
       "      <th id=\"T_284bf_level0_row46\" class=\"row_heading level0 row46\" >46</th>\n",
       "      <td id=\"T_284bf_row46_col0\" class=\"data row46 col0\" >Clustering Iteration</td>\n",
       "      <td id=\"T_284bf_row46_col1\" class=\"data row46 col1\" >None</td>\n",
       "    </tr>\n",
       "    <tr>\n",
       "      <th id=\"T_284bf_level0_row47\" class=\"row_heading level0 row47\" >47</th>\n",
       "      <td id=\"T_284bf_row47_col0\" class=\"data row47 col0\" >Polynomial Features</td>\n",
       "      <td id=\"T_284bf_row47_col1\" class=\"data row47 col1\" >False</td>\n",
       "    </tr>\n",
       "    <tr>\n",
       "      <th id=\"T_284bf_level0_row48\" class=\"row_heading level0 row48\" >48</th>\n",
       "      <td id=\"T_284bf_row48_col0\" class=\"data row48 col0\" >Polynomial Degree</td>\n",
       "      <td id=\"T_284bf_row48_col1\" class=\"data row48 col1\" >None</td>\n",
       "    </tr>\n",
       "    <tr>\n",
       "      <th id=\"T_284bf_level0_row49\" class=\"row_heading level0 row49\" >49</th>\n",
       "      <td id=\"T_284bf_row49_col0\" class=\"data row49 col0\" >Trignometry Features</td>\n",
       "      <td id=\"T_284bf_row49_col1\" class=\"data row49 col1\" >False</td>\n",
       "    </tr>\n",
       "    <tr>\n",
       "      <th id=\"T_284bf_level0_row50\" class=\"row_heading level0 row50\" >50</th>\n",
       "      <td id=\"T_284bf_row50_col0\" class=\"data row50 col0\" >Polynomial Threshold</td>\n",
       "      <td id=\"T_284bf_row50_col1\" class=\"data row50 col1\" >None</td>\n",
       "    </tr>\n",
       "    <tr>\n",
       "      <th id=\"T_284bf_level0_row51\" class=\"row_heading level0 row51\" >51</th>\n",
       "      <td id=\"T_284bf_row51_col0\" class=\"data row51 col0\" >Group Features</td>\n",
       "      <td id=\"T_284bf_row51_col1\" class=\"data row51 col1\" >False</td>\n",
       "    </tr>\n",
       "    <tr>\n",
       "      <th id=\"T_284bf_level0_row52\" class=\"row_heading level0 row52\" >52</th>\n",
       "      <td id=\"T_284bf_row52_col0\" class=\"data row52 col0\" >Feature Selection</td>\n",
       "      <td id=\"T_284bf_row52_col1\" class=\"data row52 col1\" >False</td>\n",
       "    </tr>\n",
       "    <tr>\n",
       "      <th id=\"T_284bf_level0_row53\" class=\"row_heading level0 row53\" >53</th>\n",
       "      <td id=\"T_284bf_row53_col0\" class=\"data row53 col0\" >Feature Selection Method</td>\n",
       "      <td id=\"T_284bf_row53_col1\" class=\"data row53 col1\" >classic</td>\n",
       "    </tr>\n",
       "    <tr>\n",
       "      <th id=\"T_284bf_level0_row54\" class=\"row_heading level0 row54\" >54</th>\n",
       "      <td id=\"T_284bf_row54_col0\" class=\"data row54 col0\" >Features Selection Threshold</td>\n",
       "      <td id=\"T_284bf_row54_col1\" class=\"data row54 col1\" >None</td>\n",
       "    </tr>\n",
       "    <tr>\n",
       "      <th id=\"T_284bf_level0_row55\" class=\"row_heading level0 row55\" >55</th>\n",
       "      <td id=\"T_284bf_row55_col0\" class=\"data row55 col0\" >Feature Interaction</td>\n",
       "      <td id=\"T_284bf_row55_col1\" class=\"data row55 col1\" >False</td>\n",
       "    </tr>\n",
       "    <tr>\n",
       "      <th id=\"T_284bf_level0_row56\" class=\"row_heading level0 row56\" >56</th>\n",
       "      <td id=\"T_284bf_row56_col0\" class=\"data row56 col0\" >Feature Ratio</td>\n",
       "      <td id=\"T_284bf_row56_col1\" class=\"data row56 col1\" >False</td>\n",
       "    </tr>\n",
       "    <tr>\n",
       "      <th id=\"T_284bf_level0_row57\" class=\"row_heading level0 row57\" >57</th>\n",
       "      <td id=\"T_284bf_row57_col0\" class=\"data row57 col0\" >Interaction Threshold</td>\n",
       "      <td id=\"T_284bf_row57_col1\" class=\"data row57 col1\" >None</td>\n",
       "    </tr>\n",
       "    <tr>\n",
       "      <th id=\"T_284bf_level0_row58\" class=\"row_heading level0 row58\" >58</th>\n",
       "      <td id=\"T_284bf_row58_col0\" class=\"data row58 col0\" >Fix Imbalance</td>\n",
       "      <td id=\"T_284bf_row58_col1\" class=\"data row58 col1\" >False</td>\n",
       "    </tr>\n",
       "    <tr>\n",
       "      <th id=\"T_284bf_level0_row59\" class=\"row_heading level0 row59\" >59</th>\n",
       "      <td id=\"T_284bf_row59_col0\" class=\"data row59 col0\" >Fix Imbalance Method</td>\n",
       "      <td id=\"T_284bf_row59_col1\" class=\"data row59 col1\" >SMOTE</td>\n",
       "    </tr>\n",
       "  </tbody>\n",
       "</table>\n"
      ],
      "text/plain": [
       "<pandas.io.formats.style.Styler at 0x17dfda790>"
      ]
     },
     "metadata": {},
     "output_type": "display_data"
    }
   ],
   "source": [
    "mo = setup(data = X_pyc, target = 'Polarity')"
   ]
  },
  {
   "cell_type": "code",
   "execution_count": 62,
   "metadata": {},
   "outputs": [
    {
     "data": {
      "text/html": [
       "<style type=\"text/css\">\n",
       "#T_bd7d3_ th {\n",
       "  text-align: left;\n",
       "}\n",
       "#T_bd7d3_row0_col0, #T_bd7d3_row0_col3, #T_bd7d3_row0_col4, #T_bd7d3_row1_col0, #T_bd7d3_row1_col1, #T_bd7d3_row1_col2, #T_bd7d3_row1_col3, #T_bd7d3_row1_col4, #T_bd7d3_row1_col5, #T_bd7d3_row1_col6, #T_bd7d3_row1_col7, #T_bd7d3_row2_col0, #T_bd7d3_row2_col1, #T_bd7d3_row2_col2, #T_bd7d3_row2_col3, #T_bd7d3_row2_col4, #T_bd7d3_row2_col5, #T_bd7d3_row2_col6, #T_bd7d3_row2_col7, #T_bd7d3_row3_col0, #T_bd7d3_row3_col1, #T_bd7d3_row3_col2, #T_bd7d3_row3_col3, #T_bd7d3_row3_col4, #T_bd7d3_row3_col5, #T_bd7d3_row3_col6, #T_bd7d3_row3_col7, #T_bd7d3_row4_col0, #T_bd7d3_row4_col1, #T_bd7d3_row4_col2, #T_bd7d3_row4_col3, #T_bd7d3_row4_col4, #T_bd7d3_row4_col5, #T_bd7d3_row4_col6, #T_bd7d3_row4_col7, #T_bd7d3_row5_col0, #T_bd7d3_row5_col1, #T_bd7d3_row5_col2, #T_bd7d3_row5_col3, #T_bd7d3_row5_col5, #T_bd7d3_row5_col6, #T_bd7d3_row5_col7, #T_bd7d3_row6_col0, #T_bd7d3_row6_col1, #T_bd7d3_row6_col2, #T_bd7d3_row6_col3, #T_bd7d3_row6_col4, #T_bd7d3_row6_col5, #T_bd7d3_row6_col6, #T_bd7d3_row6_col7, #T_bd7d3_row7_col0, #T_bd7d3_row7_col1, #T_bd7d3_row7_col2, #T_bd7d3_row7_col3, #T_bd7d3_row7_col4, #T_bd7d3_row7_col5, #T_bd7d3_row7_col6, #T_bd7d3_row7_col7, #T_bd7d3_row8_col0, #T_bd7d3_row8_col1, #T_bd7d3_row8_col2, #T_bd7d3_row8_col3, #T_bd7d3_row8_col4, #T_bd7d3_row8_col5, #T_bd7d3_row8_col6, #T_bd7d3_row8_col7, #T_bd7d3_row9_col0, #T_bd7d3_row9_col1, #T_bd7d3_row9_col2, #T_bd7d3_row9_col4, #T_bd7d3_row9_col5, #T_bd7d3_row9_col6, #T_bd7d3_row9_col7, #T_bd7d3_row10_col0, #T_bd7d3_row10_col1, #T_bd7d3_row10_col2, #T_bd7d3_row10_col3, #T_bd7d3_row10_col4, #T_bd7d3_row10_col5, #T_bd7d3_row10_col6, #T_bd7d3_row10_col7, #T_bd7d3_row11_col0, #T_bd7d3_row11_col1, #T_bd7d3_row11_col2, #T_bd7d3_row11_col3, #T_bd7d3_row11_col4, #T_bd7d3_row11_col5, #T_bd7d3_row11_col6, #T_bd7d3_row11_col7, #T_bd7d3_row12_col0, #T_bd7d3_row12_col1, #T_bd7d3_row12_col2, #T_bd7d3_row12_col3, #T_bd7d3_row12_col4, #T_bd7d3_row12_col5, #T_bd7d3_row12_col6, #T_bd7d3_row12_col7, #T_bd7d3_row13_col0, #T_bd7d3_row13_col1, #T_bd7d3_row13_col2, #T_bd7d3_row13_col3, #T_bd7d3_row13_col4, #T_bd7d3_row13_col5, #T_bd7d3_row13_col6, #T_bd7d3_row13_col7, #T_bd7d3_row14_col0, #T_bd7d3_row14_col1, #T_bd7d3_row14_col2, #T_bd7d3_row14_col3, #T_bd7d3_row14_col4, #T_bd7d3_row14_col5, #T_bd7d3_row14_col6, #T_bd7d3_row14_col7 {\n",
       "  text-align: left;\n",
       "}\n",
       "#T_bd7d3_row0_col1, #T_bd7d3_row0_col2, #T_bd7d3_row0_col5, #T_bd7d3_row0_col6, #T_bd7d3_row0_col7, #T_bd7d3_row5_col4, #T_bd7d3_row9_col3 {\n",
       "  text-align: left;\n",
       "  background-color: yellow;\n",
       "}\n",
       "#T_bd7d3_row0_col8, #T_bd7d3_row1_col8, #T_bd7d3_row2_col8, #T_bd7d3_row3_col8, #T_bd7d3_row4_col8, #T_bd7d3_row5_col8, #T_bd7d3_row6_col8, #T_bd7d3_row7_col8, #T_bd7d3_row8_col8, #T_bd7d3_row10_col8, #T_bd7d3_row11_col8, #T_bd7d3_row12_col8, #T_bd7d3_row13_col8, #T_bd7d3_row14_col8 {\n",
       "  text-align: left;\n",
       "  background-color: lightgrey;\n",
       "}\n",
       "#T_bd7d3_row9_col8 {\n",
       "  text-align: left;\n",
       "  background-color: yellow;\n",
       "  background-color: lightgrey;\n",
       "}\n",
       "</style>\n",
       "<table id=\"T_bd7d3_\">\n",
       "  <thead>\n",
       "    <tr>\n",
       "      <th class=\"blank level0\" >&nbsp;</th>\n",
       "      <th class=\"col_heading level0 col0\" >Model</th>\n",
       "      <th class=\"col_heading level0 col1\" >Accuracy</th>\n",
       "      <th class=\"col_heading level0 col2\" >AUC</th>\n",
       "      <th class=\"col_heading level0 col3\" >Recall</th>\n",
       "      <th class=\"col_heading level0 col4\" >Prec.</th>\n",
       "      <th class=\"col_heading level0 col5\" >F1</th>\n",
       "      <th class=\"col_heading level0 col6\" >Kappa</th>\n",
       "      <th class=\"col_heading level0 col7\" >MCC</th>\n",
       "      <th class=\"col_heading level0 col8\" >TT (Sec)</th>\n",
       "    </tr>\n",
       "  </thead>\n",
       "  <tbody>\n",
       "    <tr>\n",
       "      <th id=\"T_bd7d3_level0_row0\" class=\"row_heading level0 row0\" >lr</th>\n",
       "      <td id=\"T_bd7d3_row0_col0\" class=\"data row0 col0\" >Logistic Regression</td>\n",
       "      <td id=\"T_bd7d3_row0_col1\" class=\"data row0 col1\" >0.7841</td>\n",
       "      <td id=\"T_bd7d3_row0_col2\" class=\"data row0 col2\" >0.8581</td>\n",
       "      <td id=\"T_bd7d3_row0_col3\" class=\"data row0 col3\" >0.7391</td>\n",
       "      <td id=\"T_bd7d3_row0_col4\" class=\"data row0 col4\" >0.8009</td>\n",
       "      <td id=\"T_bd7d3_row0_col5\" class=\"data row0 col5\" >0.7679</td>\n",
       "      <td id=\"T_bd7d3_row0_col6\" class=\"data row0 col6\" >0.5668</td>\n",
       "      <td id=\"T_bd7d3_row0_col7\" class=\"data row0 col7\" >0.5693</td>\n",
       "      <td id=\"T_bd7d3_row0_col8\" class=\"data row0 col8\" >7.7710</td>\n",
       "    </tr>\n",
       "    <tr>\n",
       "      <th id=\"T_bd7d3_level0_row1\" class=\"row_heading level0 row1\" >ridge</th>\n",
       "      <td id=\"T_bd7d3_row1_col0\" class=\"data row1 col0\" >Ridge Classifier</td>\n",
       "      <td id=\"T_bd7d3_row1_col1\" class=\"data row1 col1\" >0.7758</td>\n",
       "      <td id=\"T_bd7d3_row1_col2\" class=\"data row1 col2\" >0.0000</td>\n",
       "      <td id=\"T_bd7d3_row1_col3\" class=\"data row1 col3\" >0.7600</td>\n",
       "      <td id=\"T_bd7d3_row1_col4\" class=\"data row1 col4\" >0.7748</td>\n",
       "      <td id=\"T_bd7d3_row1_col5\" class=\"data row1 col5\" >0.7662</td>\n",
       "      <td id=\"T_bd7d3_row1_col6\" class=\"data row1 col6\" >0.5508</td>\n",
       "      <td id=\"T_bd7d3_row1_col7\" class=\"data row1 col7\" >0.5524</td>\n",
       "      <td id=\"T_bd7d3_row1_col8\" class=\"data row1 col8\" >0.3840</td>\n",
       "    </tr>\n",
       "    <tr>\n",
       "      <th id=\"T_bd7d3_level0_row2\" class=\"row_heading level0 row2\" >et</th>\n",
       "      <td id=\"T_bd7d3_row2_col0\" class=\"data row2 col0\" >Extra Trees Classifier</td>\n",
       "      <td id=\"T_bd7d3_row2_col1\" class=\"data row2 col1\" >0.7597</td>\n",
       "      <td id=\"T_bd7d3_row2_col2\" class=\"data row2 col2\" >0.8370</td>\n",
       "      <td id=\"T_bd7d3_row2_col3\" class=\"data row2 col3\" >0.7540</td>\n",
       "      <td id=\"T_bd7d3_row2_col4\" class=\"data row2 col4\" >0.7511</td>\n",
       "      <td id=\"T_bd7d3_row2_col5\" class=\"data row2 col5\" >0.7522</td>\n",
       "      <td id=\"T_bd7d3_row2_col6\" class=\"data row2 col6\" >0.5189</td>\n",
       "      <td id=\"T_bd7d3_row2_col7\" class=\"data row2 col7\" >0.5193</td>\n",
       "      <td id=\"T_bd7d3_row2_col8\" class=\"data row2 col8\" >1.6860</td>\n",
       "    </tr>\n",
       "    <tr>\n",
       "      <th id=\"T_bd7d3_level0_row3\" class=\"row_heading level0 row3\" >rf</th>\n",
       "      <td id=\"T_bd7d3_row3_col0\" class=\"data row3 col0\" >Random Forest Classifier</td>\n",
       "      <td id=\"T_bd7d3_row3_col1\" class=\"data row3 col1\" >0.7496</td>\n",
       "      <td id=\"T_bd7d3_row3_col2\" class=\"data row3 col2\" >0.8364</td>\n",
       "      <td id=\"T_bd7d3_row3_col3\" class=\"data row3 col3\" >0.6961</td>\n",
       "      <td id=\"T_bd7d3_row3_col4\" class=\"data row3 col4\" >0.7651</td>\n",
       "      <td id=\"T_bd7d3_row3_col5\" class=\"data row3 col5\" >0.7283</td>\n",
       "      <td id=\"T_bd7d3_row3_col6\" class=\"data row3 col6\" >0.4972</td>\n",
       "      <td id=\"T_bd7d3_row3_col7\" class=\"data row3 col7\" >0.4996</td>\n",
       "      <td id=\"T_bd7d3_row3_col8\" class=\"data row3 col8\" >1.0790</td>\n",
       "    </tr>\n",
       "    <tr>\n",
       "      <th id=\"T_bd7d3_level0_row4\" class=\"row_heading level0 row4\" >catboost</th>\n",
       "      <td id=\"T_bd7d3_row4_col0\" class=\"data row4 col0\" >CatBoost Classifier</td>\n",
       "      <td id=\"T_bd7d3_row4_col1\" class=\"data row4 col1\" >0.7466</td>\n",
       "      <td id=\"T_bd7d3_row4_col2\" class=\"data row4 col2\" >0.8444</td>\n",
       "      <td id=\"T_bd7d3_row4_col3\" class=\"data row4 col3\" >0.6051</td>\n",
       "      <td id=\"T_bd7d3_row4_col4\" class=\"data row4 col4\" >0.8257</td>\n",
       "      <td id=\"T_bd7d3_row4_col5\" class=\"data row4 col5\" >0.6970</td>\n",
       "      <td id=\"T_bd7d3_row4_col6\" class=\"data row4 col6\" >0.4885</td>\n",
       "      <td id=\"T_bd7d3_row4_col7\" class=\"data row4 col7\" >0.5067</td>\n",
       "      <td id=\"T_bd7d3_row4_col8\" class=\"data row4 col8\" >34.2640</td>\n",
       "    </tr>\n",
       "    <tr>\n",
       "      <th id=\"T_bd7d3_level0_row5\" class=\"row_heading level0 row5\" >gbc</th>\n",
       "      <td id=\"T_bd7d3_row5_col0\" class=\"data row5 col0\" >Gradient Boosting Classifier</td>\n",
       "      <td id=\"T_bd7d3_row5_col1\" class=\"data row5 col1\" >0.7430</td>\n",
       "      <td id=\"T_bd7d3_row5_col2\" class=\"data row5 col2\" >0.8024</td>\n",
       "      <td id=\"T_bd7d3_row5_col3\" class=\"data row5 col3\" >0.5781</td>\n",
       "      <td id=\"T_bd7d3_row5_col4\" class=\"data row5 col4\" >0.8443</td>\n",
       "      <td id=\"T_bd7d3_row5_col5\" class=\"data row5 col5\" >0.6849</td>\n",
       "      <td id=\"T_bd7d3_row5_col6\" class=\"data row5 col6\" >0.4806</td>\n",
       "      <td id=\"T_bd7d3_row5_col7\" class=\"data row5 col7\" >0.5061</td>\n",
       "      <td id=\"T_bd7d3_row5_col8\" class=\"data row5 col8\" >1.8320</td>\n",
       "    </tr>\n",
       "    <tr>\n",
       "      <th id=\"T_bd7d3_level0_row6\" class=\"row_heading level0 row6\" >xgboost</th>\n",
       "      <td id=\"T_bd7d3_row6_col0\" class=\"data row6 col0\" >Extreme Gradient Boosting</td>\n",
       "      <td id=\"T_bd7d3_row6_col1\" class=\"data row6 col1\" >0.7347</td>\n",
       "      <td id=\"T_bd7d3_row6_col2\" class=\"data row6 col2\" >0.8193</td>\n",
       "      <td id=\"T_bd7d3_row6_col3\" class=\"data row6 col3\" >0.6396</td>\n",
       "      <td id=\"T_bd7d3_row6_col4\" class=\"data row6 col4\" >0.7742</td>\n",
       "      <td id=\"T_bd7d3_row6_col5\" class=\"data row6 col5\" >0.7000</td>\n",
       "      <td id=\"T_bd7d3_row6_col6\" class=\"data row6 col6\" >0.4661</td>\n",
       "      <td id=\"T_bd7d3_row6_col7\" class=\"data row6 col7\" >0.4733</td>\n",
       "      <td id=\"T_bd7d3_row6_col8\" class=\"data row6 col8\" >12.7320</td>\n",
       "    </tr>\n",
       "    <tr>\n",
       "      <th id=\"T_bd7d3_level0_row7\" class=\"row_heading level0 row7\" >ada</th>\n",
       "      <td id=\"T_bd7d3_row7_col0\" class=\"data row7 col0\" >Ada Boost Classifier</td>\n",
       "      <td id=\"T_bd7d3_row7_col1\" class=\"data row7 col1\" >0.7334</td>\n",
       "      <td id=\"T_bd7d3_row7_col2\" class=\"data row7 col2\" >0.7862</td>\n",
       "      <td id=\"T_bd7d3_row7_col3\" class=\"data row7 col3\" >0.5658</td>\n",
       "      <td id=\"T_bd7d3_row7_col4\" class=\"data row7 col4\" >0.8330</td>\n",
       "      <td id=\"T_bd7d3_row7_col5\" class=\"data row7 col5\" >0.6729</td>\n",
       "      <td id=\"T_bd7d3_row7_col6\" class=\"data row7 col6\" >0.4613</td>\n",
       "      <td id=\"T_bd7d3_row7_col7\" class=\"data row7 col7\" >0.4868</td>\n",
       "      <td id=\"T_bd7d3_row7_col8\" class=\"data row7 col8\" >0.6510</td>\n",
       "    </tr>\n",
       "    <tr>\n",
       "      <th id=\"T_bd7d3_level0_row8\" class=\"row_heading level0 row8\" >dt</th>\n",
       "      <td id=\"T_bd7d3_row8_col0\" class=\"data row8 col0\" >Decision Tree Classifier</td>\n",
       "      <td id=\"T_bd7d3_row8_col1\" class=\"data row8 col1\" >0.7269</td>\n",
       "      <td id=\"T_bd7d3_row8_col2\" class=\"data row8 col2\" >0.7308</td>\n",
       "      <td id=\"T_bd7d3_row8_col3\" class=\"data row8 col3\" >0.7392</td>\n",
       "      <td id=\"T_bd7d3_row8_col4\" class=\"data row8 col4\" >0.7098</td>\n",
       "      <td id=\"T_bd7d3_row8_col5\" class=\"data row8 col5\" >0.7238</td>\n",
       "      <td id=\"T_bd7d3_row8_col6\" class=\"data row8 col6\" >0.4539</td>\n",
       "      <td id=\"T_bd7d3_row8_col7\" class=\"data row8 col7\" >0.4547</td>\n",
       "      <td id=\"T_bd7d3_row8_col8\" class=\"data row8 col8\" >0.4030</td>\n",
       "    </tr>\n",
       "    <tr>\n",
       "      <th id=\"T_bd7d3_level0_row9\" class=\"row_heading level0 row9\" >nb</th>\n",
       "      <td id=\"T_bd7d3_row9_col0\" class=\"data row9 col0\" >Naive Bayes</td>\n",
       "      <td id=\"T_bd7d3_row9_col1\" class=\"data row9 col1\" >0.6947</td>\n",
       "      <td id=\"T_bd7d3_row9_col2\" class=\"data row9 col2\" >0.6990</td>\n",
       "      <td id=\"T_bd7d3_row9_col3\" class=\"data row9 col3\" >0.8523</td>\n",
       "      <td id=\"T_bd7d3_row9_col4\" class=\"data row9 col4\" >0.6396</td>\n",
       "      <td id=\"T_bd7d3_row9_col5\" class=\"data row9 col5\" >0.7303</td>\n",
       "      <td id=\"T_bd7d3_row9_col6\" class=\"data row9 col6\" >0.3948</td>\n",
       "      <td id=\"T_bd7d3_row9_col7\" class=\"data row9 col7\" >0.4178</td>\n",
       "      <td id=\"T_bd7d3_row9_col8\" class=\"data row9 col8\" >0.1870</td>\n",
       "    </tr>\n",
       "    <tr>\n",
       "      <th id=\"T_bd7d3_level0_row10\" class=\"row_heading level0 row10\" >lightgbm</th>\n",
       "      <td id=\"T_bd7d3_row10_col0\" class=\"data row10 col0\" >Light Gradient Boosting Machine</td>\n",
       "      <td id=\"T_bd7d3_row10_col1\" class=\"data row10 col1\" >0.6721</td>\n",
       "      <td id=\"T_bd7d3_row10_col2\" class=\"data row10 col2\" >0.7255</td>\n",
       "      <td id=\"T_bd7d3_row10_col3\" class=\"data row10 col3\" >0.5338</td>\n",
       "      <td id=\"T_bd7d3_row10_col4\" class=\"data row10 col4\" >0.7160</td>\n",
       "      <td id=\"T_bd7d3_row10_col5\" class=\"data row10 col5\" >0.6103</td>\n",
       "      <td id=\"T_bd7d3_row10_col6\" class=\"data row10 col6\" >0.3384</td>\n",
       "      <td id=\"T_bd7d3_row10_col7\" class=\"data row10 col7\" >0.3495</td>\n",
       "      <td id=\"T_bd7d3_row10_col8\" class=\"data row10 col8\" >2.4160</td>\n",
       "    </tr>\n",
       "    <tr>\n",
       "      <th id=\"T_bd7d3_level0_row11\" class=\"row_heading level0 row11\" >svm</th>\n",
       "      <td id=\"T_bd7d3_row11_col0\" class=\"data row11 col0\" >SVM - Linear Kernel</td>\n",
       "      <td id=\"T_bd7d3_row11_col1\" class=\"data row11 col1\" >0.6530</td>\n",
       "      <td id=\"T_bd7d3_row11_col2\" class=\"data row11 col2\" >0.0000</td>\n",
       "      <td id=\"T_bd7d3_row11_col3\" class=\"data row11 col3\" >0.8050</td>\n",
       "      <td id=\"T_bd7d3_row11_col4\" class=\"data row11 col4\" >0.6570</td>\n",
       "      <td id=\"T_bd7d3_row11_col5\" class=\"data row11 col5\" >0.6733</td>\n",
       "      <td id=\"T_bd7d3_row11_col6\" class=\"data row11 col6\" >0.3133</td>\n",
       "      <td id=\"T_bd7d3_row11_col7\" class=\"data row11 col7\" >0.3588</td>\n",
       "      <td id=\"T_bd7d3_row11_col8\" class=\"data row11 col8\" >0.3150</td>\n",
       "    </tr>\n",
       "    <tr>\n",
       "      <th id=\"T_bd7d3_level0_row12\" class=\"row_heading level0 row12\" >lda</th>\n",
       "      <td id=\"T_bd7d3_row12_col0\" class=\"data row12 col0\" >Linear Discriminant Analysis</td>\n",
       "      <td id=\"T_bd7d3_row12_col1\" class=\"data row12 col1\" >0.6254</td>\n",
       "      <td id=\"T_bd7d3_row12_col2\" class=\"data row12 col2\" >0.6409</td>\n",
       "      <td id=\"T_bd7d3_row12_col3\" class=\"data row12 col3\" >0.6370</td>\n",
       "      <td id=\"T_bd7d3_row12_col4\" class=\"data row12 col4\" >0.6109</td>\n",
       "      <td id=\"T_bd7d3_row12_col5\" class=\"data row12 col5\" >0.6224</td>\n",
       "      <td id=\"T_bd7d3_row12_col6\" class=\"data row12 col6\" >0.2511</td>\n",
       "      <td id=\"T_bd7d3_row12_col7\" class=\"data row12 col7\" >0.2523</td>\n",
       "      <td id=\"T_bd7d3_row12_col8\" class=\"data row12 col8\" >6.1800</td>\n",
       "    </tr>\n",
       "    <tr>\n",
       "      <th id=\"T_bd7d3_level0_row13\" class=\"row_heading level0 row13\" >knn</th>\n",
       "      <td id=\"T_bd7d3_row13_col0\" class=\"data row13 col0\" >K Neighbors Classifier</td>\n",
       "      <td id=\"T_bd7d3_row13_col1\" class=\"data row13 col1\" >0.5993</td>\n",
       "      <td id=\"T_bd7d3_row13_col2\" class=\"data row13 col2\" >0.6401</td>\n",
       "      <td id=\"T_bd7d3_row13_col3\" class=\"data row13 col3\" >0.6457</td>\n",
       "      <td id=\"T_bd7d3_row13_col4\" class=\"data row13 col4\" >0.5813</td>\n",
       "      <td id=\"T_bd7d3_row13_col5\" class=\"data row13 col5\" >0.6083</td>\n",
       "      <td id=\"T_bd7d3_row13_col6\" class=\"data row13 col6\" >0.2005</td>\n",
       "      <td id=\"T_bd7d3_row13_col7\" class=\"data row13 col7\" >0.2043</td>\n",
       "      <td id=\"T_bd7d3_row13_col8\" class=\"data row13 col8\" >0.7340</td>\n",
       "    </tr>\n",
       "    <tr>\n",
       "      <th id=\"T_bd7d3_level0_row14\" class=\"row_heading level0 row14\" >qda</th>\n",
       "      <td id=\"T_bd7d3_row14_col0\" class=\"data row14 col0\" >Quadratic Discriminant Analysis</td>\n",
       "      <td id=\"T_bd7d3_row14_col1\" class=\"data row14 col1\" >0.5796</td>\n",
       "      <td id=\"T_bd7d3_row14_col2\" class=\"data row14 col2\" >0.5790</td>\n",
       "      <td id=\"T_bd7d3_row14_col3\" class=\"data row14 col3\" >0.5644</td>\n",
       "      <td id=\"T_bd7d3_row14_col4\" class=\"data row14 col4\" >0.5703</td>\n",
       "      <td id=\"T_bd7d3_row14_col5\" class=\"data row14 col5\" >0.5649</td>\n",
       "      <td id=\"T_bd7d3_row14_col6\" class=\"data row14 col6\" >0.1582</td>\n",
       "      <td id=\"T_bd7d3_row14_col7\" class=\"data row14 col7\" >0.1595</td>\n",
       "      <td id=\"T_bd7d3_row14_col8\" class=\"data row14 col8\" >1.9210</td>\n",
       "    </tr>\n",
       "  </tbody>\n",
       "</table>\n"
      ],
      "text/plain": [
       "<pandas.io.formats.style.Styler at 0x17df47350>"
      ]
     },
     "metadata": {},
     "output_type": "display_data"
    }
   ],
   "source": [
    "cl = compare_models()"
   ]
  }
 ],
 "metadata": {
  "kernelspec": {
   "display_name": "Python 3",
   "language": "python",
   "name": "python3"
  },
  "language_info": {
   "codemirror_mode": {
    "name": "ipython",
    "version": 3
   },
   "file_extension": ".py",
   "mimetype": "text/x-python",
   "name": "python",
   "nbconvert_exporter": "python",
   "pygments_lexer": "ipython3",
   "version": "3.7.7"
  }
 },
 "nbformat": 4,
 "nbformat_minor": 4
}
