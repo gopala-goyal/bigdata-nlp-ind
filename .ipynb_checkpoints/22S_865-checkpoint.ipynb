{
 "cells": [
  {
   "cell_type": "markdown",
   "metadata": {},
   "source": [
    "# MMA 2022S 865, Individual Assignment 1\n",
    "\n",
    "Version 2: Updated January 1, 2022.\n",
    "\n",
    "- Gopala Goyal\n",
    "- 20254605\n",
    "- 2\n",
    "- January 8, 2022"
   ]
  },
  {
   "cell_type": "markdown",
   "metadata": {},
   "source": [
    "# Question 1 - ELI5\n",
    "\n",
    "_“If you can't explain it simply, you don't understand it well enough.” – Albert Einstein_\n",
    "\n",
    "Explaining technical concepts to a non-technical audience is an underappreciated skill; one which the GMMA/MMA program aims to give its students; and one that will truly set you apart in the job market. The only way to gain a skill is by practice, so here we go.\n",
    "\n",
    "Answer each question below as though you were talking to a 5 year old (equivalently: a grandma, or a completely non-technical manager, or an Ivey grad). Use your own words. Use analogies where possible. Examples are better than theory. Keep it short, but be complete. Use simple, plain English. Do not use business buzzwords like _actualize, empower, fungible, leverage, or synergize_. Do not use technical buzzwords that most people don’t know like _model, agile, bandwidth, IoT, blockchain, AR, VR, actionable insights_. Inform the audience without going into too much technical detail. Your goal is to truly help them understand, not to give what you feel is a “technically precise” answer and move on (but they still don’t understand!). Don’t be that guy!\n",
    "\n",
    "Please keep each answer to 1000 characters or less.\n",
    "\n",
    "Finally, feel free to use [Markdown syntax](https://www.markdownguide.org/basic-syntax/) to format your answer.\n"
   ]
  },
  {
   "cell_type": "markdown",
   "metadata": {},
   "source": [
    "### Part 1: What is “Big Data” and how is it different than “regular data”?"
   ]
  },
  {
   "cell_type": "markdown",
   "metadata": {},
   "source": [
    "- Any information that is too large, that cannot fit into one computer or even if it can fit into one computer, but the computer cannot handle the processing of that information alone and needs help from other computers to process it, that large information is known as Big Data. Also, it never stops getting bigger and bigger. The Big data is something that constantly increasing over time. It can be inconsistent and unstructured.\n",
    "\n",
    "- For example, if there are 50 students in a class and we need to gather their progress report, scores, marks etc., it is easy because 50 is a very small number. However, when we need to get the same information for the entire school or even entire city of Toronto, the information will be very large, maybe able to fit into a computers' memory, but it will be large enough to be called as Big Data. As the number of students in Toronto increases, the size of the data will increase every now and then.\n",
    "\n",
    "- Regular data is organised information that is structured, is smaller in size than big data, and can be handled by lesser number of computers.\n",
    "\n",
    "- Regular data is stored and maintained using a big computer however Big data stored on numerous big computers."
   ]
  },
  {
   "cell_type": "markdown",
   "metadata": {},
   "source": [
    "### Part 2: What is Hadoop? Hint: What problems in previous data storage and processing was Hadoop designed to solve? How did Hadoop accomplish that?"
   ]
  },
  {
   "attachments": {},
   "cell_type": "markdown",
   "metadata": {},
   "source": [
    "- Hadoop is a computer program that makes it possible for users to manage huge amounts of data, called Big Data, and helps multiple computers to work together and help in processing Big Data. It can store enormous amounts of data such as pictures, music, text, video or any kind of information you can think of. It stands on 4 pillars:\n",
    "  - HDFS which stores data, Hadoop distributed file system\n",
    "  - YARN - 'Yet another resource negotiator ' which tells which computer will do what processing\n",
    "  - Mapreduce - It distributes and splits the processes and helps computers know what they have to do\n",
    "  - Hadoop Common - It provides resources/utilities for other Hadoop components\n",
    "\n",
    "\n",
    "- Primary advantages of Hadoop\n",
    "  - Because it helps in using multiple computers, if one computer fails, Hadoop makes sure that the processing doesn't stop\n",
    "  - It helps in increasing or decreasing the number of computers as and when required\n",
    "  - It works as and when the data arrives so it helps in real time processing\n",
    "\n",
    "\n",
    "- Problem that Haddop solved in previous data storage and processing\n",
    "  - As compared to the previous data storage and processing systems, Hadoop is cheaper and more effective\n",
    "  - It supports data from many sources\n",
    "  - Hadoop runs on many computers at once so it allows large amount of data to be processed at once and stored in multiple computers."
   ]
  },
  {
   "cell_type": "markdown",
   "metadata": {},
   "source": [
    "### Part 3: How does Big Data and the cloud help Machine Learning? "
   ]
  },
  {
   "attachments": {},
   "cell_type": "markdown",
   "metadata": {},
   "source": [
    "- Everyday, the computers are getting smarter (not that the people are getting dumber), the one reason behind that is that the computers are learning a lot from the large information that we collect. The big data (as explained in Q1) helps the computers learn about how the world works, how human beings handle day to day tasks. This process of making computers smarter is known as Machine Learning.\n",
    "\n",
    "- Cloud services are the ways to host big data systems for people who want to help in \"Machine learning process\". The can ask for computers and processing systems as and when they require. The cost and space of having so many computers to store Big Data and do Machine Learning is a lot. These issues are addressed by cloud platforms. For example, a pay-per-use model lowers expenses while allowing businesses to increase and decrease up as their data and machine learning needs change. Cloud also makes advanced machine learning technologies available without requiring advanced skills.\n",
    "\n",
    "- Machine learning methods play a critical role in today's world. The growth of the internet and improvements in data collection technology are rapidly increasing the complexity of the machine learning tasks we must solve.\n",
    "\n",
    "- The more data we have, the better it is for Machine Learning. For machine learning algorithms, data serves as a form energy. ML algorithms train themselves on data in the same way that sportsmen train to increase their fitness. Because there is more and more data available for training, big data makes ML algorithms more effective. Big data also aids machine learning in producing more reliable analytics and identifying hidden patterns and trends."
   ]
  },
  {
   "cell_type": "markdown",
   "metadata": {},
   "source": [
    "### Part 4: What is NoSQL?"
   ]
  },
  {
   "cell_type": "markdown",
   "metadata": {},
   "source": [
    "- The type of storage in a computer where the information is not stored in the form of rows and columns are referred to as 'NoSQL,' and 'NoSQL' stands for 'not only SQL\". It stores the data in such a way that is tailored to the way the data is structured. Every item or a document in NoSQL can be of different structure and NoSQL is powerful enough to store the different structure within itself.\n",
    "\n",
    "- It allows for the storage and management of big data that could be non-structured or even semi-structured . They are also built to manage a large volume of data read and write.\n",
    "\n",
    "- Every document in a NoSQL are like human beings, every human being has a similar set of traits such as 2 eyes, 1 nose, 2 hands etc however every person has their own structure, qualities. NoSQL here is like earth which is storing every individual in itself.\n",
    "\n",
    "- NoSQL databases have flexible schemas and they can handle a broad range of data types."
   ]
  },
  {
   "cell_type": "markdown",
   "metadata": {},
   "source": [
    "### Part 5: Name three ways topic modeling could help a bank."
   ]
  },
  {
   "cell_type": "markdown",
   "metadata": {},
   "source": [
    "- Topic Modeling the computer to understand general idea of the message without understanding the whole message. It can be used in the Banking industry in the following ways:\n",
    "    - Understand customer data (website reviews, chats, telephonic conversations) to understand what the customer wants and what they expect from a bank. Using these themes, the bank can take actions based on the topics, understand the customer needs and think about taking the required action.\n",
    "    - Before investing, customers usually read about investment products such as mutual fund reports or stock research reports. Topic modeling can suggest investment goods based on the reports and what the customer feedback is. If a customer is reading research on energy and banking stocks, the model may suggest a dividend stacking mutual fund or exchange-traded fund.\n",
    "    - Data reduction and retrieval: Banks ask their customers to call an agent to cancel certain services, however occasionally customers phone the agent claiming to cancel when they don't plan to cancel in order to get a better bargain (negotiating techniques). Topic Modeling can search for certain words or phrases in a discussion to tell an agent if the client is likely to cancel and, as a result, if they should offer reduced services or just negotiate for a better price."
   ]
  },
  {
   "cell_type": "markdown",
   "metadata": {},
   "source": [
    "### Part 6: What is Apache Spark, exactly, and what are its pros and cons?"
   ]
  },
  {
   "cell_type": "markdown",
   "metadata": {},
   "source": [
    "- Apache Spark is a data processing framework which is used to process lots of information quickly. It has the ability to use multiple computers, their memory, storage etc. to perform the processing. It can use multiple computers either by itself or can take help from other softwares.\n",
    "\n",
    "- Ability to process very large data with speed and efficiency is important for machine learning process as it needs the power of many computers at once and Apache Spark really does an amazing job to achieve this.\n",
    "\n",
    "- It is stands on 2 major pillars, \n",
    "  - Driver - It breaks the code into many parts that can be spread among multiple computers. \n",
    "  - Executors -  It actually does the processing on each computer and perform the tasks assigned to them. \n",
    "\n",
    "- Some of the pros for using Apache Spark are:\n",
    "\n",
    "    - Speed\n",
    "    - Ease of use\n",
    "    - Supports multiple programming languages (Python, Java, Scala etc.)\n",
    "    - Can run on Multiple platforms\n",
    "    - Open source community is strong\n",
    "    - Advanced analytics\n",
    "\n",
    "- Some of the cons are:\n",
    "\n",
    "    - No file management system\n",
    "    - Lesser Algorithms\n",
    "    - Multi-user - cannot handle many users at once\n",
    "    - Optimization process - no automatic code optimization process"
   ]
  },
  {
   "cell_type": "markdown",
   "metadata": {},
   "source": [
    "# Question 2: Sentiment Analysis via the ML-based approach\n",
    "\n",
    "Download the “Product Sentiment” dataset from the course portal: sentiment_train.csv and sentiment_test.csv."
   ]
  },
  {
   "cell_type": "markdown",
   "metadata": {},
   "source": [
    "### Part 1.a. Loading and Prep\n",
    "\n",
    "Load, clean, and preprocess the data as you find necessary."
   ]
  },
  {
   "cell_type": "code",
   "execution_count": 42,
   "metadata": {},
   "outputs": [],
   "source": [
    "import numpy as np\n",
    "import pandas as pd\n",
    "import matplotlib.pyplot as plt\n",
    "import seaborn as sns\n",
    "import nltk\n",
    "from nltk.sentiment.vader import SentimentIntensityAnalyzer\n",
    "from nltk.corpus import stopwords\n",
    "from nltk.stem import WordNetLemmatizer\n",
    "import string\n",
    "import re\n",
    "\n",
    "from sklearn import metrics\n",
    "from sklearn.feature_extraction.text import CountVectorizer\n",
    "from sklearn.linear_model import LogisticRegression,LogisticRegressionCV\n",
    "from sklearn.metrics import classification_report, plot_roc_curve\n",
    "from sklearn.model_selection import cross_validate, KFold, GridSearchCV\n",
    "\n",
    "from pycaret.classification import *"
   ]
  },
  {
   "cell_type": "code",
   "execution_count": null,
   "metadata": {},
   "outputs": [],
   "source": [
    "stopwords.words('english')"
   ]
  },
  {
   "cell_type": "code",
   "execution_count": null,
   "metadata": {},
   "outputs": [],
   "source": [
    "#nltk.download(\"all\")"
   ]
  },
  {
   "cell_type": "code",
   "execution_count": 61,
   "metadata": {
    "scrolled": true
   },
   "outputs": [
    {
     "name": "stdout",
     "output_type": "stream",
     "text": [
      "<class 'pandas.core.frame.DataFrame'>\n",
      "RangeIndex: 2400 entries, 0 to 2399\n",
      "Data columns (total 2 columns):\n",
      " #   Column    Non-Null Count  Dtype \n",
      "---  ------    --------------  ----- \n",
      " 0   Sentence  2400 non-null   object\n",
      " 1   Polarity  2400 non-null   int64 \n",
      "dtypes: int64(1), object(1)\n",
      "memory usage: 37.6+ KB\n",
      "None\n",
      "                                                                                  Sentence  \\\n",
      "0                                                                 Wow... Loved this place.   \n",
      "1                                                                       Crust is not good.   \n",
      "2                                                Not tasty and the texture was just nasty.   \n",
      "3  Stopped by during the late May bank holiday off Rick Steve recommendation and loved it.   \n",
      "4                              The selection on the menu was great and so were the prices.   \n",
      "\n",
      "   Polarity  \n",
      "0         1  \n",
      "1         0  \n",
      "2         0  \n",
      "3         1  \n",
      "4         1  \n",
      "<class 'pandas.core.frame.DataFrame'>\n",
      "RangeIndex: 600 entries, 0 to 599\n",
      "Data columns (total 2 columns):\n",
      " #   Column    Non-Null Count  Dtype \n",
      "---  ------    --------------  ----- \n",
      " 0   Sentence  600 non-null    object\n",
      " 1   Polarity  600 non-null    int64 \n",
      "dtypes: int64(1), object(1)\n",
      "memory usage: 9.5+ KB\n",
      "None\n",
      "                                                                                                     Sentence  \\\n",
      "0                                    A good commentary of today's love and undoubtedly a film worth seeing.     \n",
      "1                       For people who are first timers in film making, I think they did an excellent job!!     \n",
      "2  It was very popular when I was in the cinema, a good house and very good reactions and plenty of laughs.     \n",
      "3                                It's a feel-good film and that's how I felt when I came out of the cinema!     \n",
      "4                                    It has northern humour and positive about the community it represents.     \n",
      "\n",
      "   Polarity  \n",
      "0         1  \n",
      "1         1  \n",
      "2         1  \n",
      "3         1  \n",
      "4         1  \n"
     ]
    }
   ],
   "source": [
    "df_train = pd.read_csv(\"sentiment_train.csv\")\n",
    "\n",
    "print(df_train.info())\n",
    "print(df_train.head())\n",
    "\n",
    "df_test = pd.read_csv(\"sentiment_test.csv\")\n",
    "\n",
    "print(df_test.info())\n",
    "print(df_test.head())"
   ]
  },
  {
   "cell_type": "markdown",
   "metadata": {},
   "source": [
    "### EDA"
   ]
  },
  {
   "cell_type": "code",
   "execution_count": 63,
   "metadata": {},
   "outputs": [
    {
     "data": {
      "text/plain": [
       "<AxesSubplot:>"
      ]
     },
     "execution_count": 63,
     "metadata": {},
     "output_type": "execute_result"
    },
    {
     "data": {
      "image/png": "[encoded data removed]",
      "text/plain": [
       "<Figure size 432x288 with 1 Axes>"
      ]
     },
     "metadata": {
      "needs_background": "light"
     },
     "output_type": "display_data"
    }
   ],
   "source": [
    "df_train.Polarity.value_counts().plot.bar()"
   ]
  },
  {
   "cell_type": "markdown",
   "metadata": {},
   "source": [
    "> Data is balanced"
   ]
  },
  {
   "cell_type": "markdown",
   "metadata": {},
   "source": [
    "### Check missing/wrong values"
   ]
  },
  {
   "cell_type": "code",
   "execution_count": 64,
   "metadata": {},
   "outputs": [],
   "source": [
    "def createLengthCol(dataframe,col):\n",
    "    dataframe['review_length']  = dataframe[col].str.split().str.len()"
   ]
  },
  {
   "cell_type": "code",
   "execution_count": 65,
   "metadata": {},
   "outputs": [
    {
     "data": {
      "text/html": [
       "<div>\n",
       "<style scoped>\n",
       "    .dataframe tbody tr th:only-of-type {\n",
       "        vertical-align: middle;\n",
       "    }\n",
       "\n",
       "    .dataframe tbody tr th {\n",
       "        vertical-align: top;\n",
       "    }\n",
       "\n",
       "    .dataframe thead th {\n",
       "        text-align: right;\n",
       "    }\n",
       "</style>\n",
       "<table border=\"1\" class=\"dataframe\">\n",
       "  <thead>\n",
       "    <tr style=\"text-align: right;\">\n",
       "      <th></th>\n",
       "      <th>Sentence</th>\n",
       "      <th>Polarity</th>\n",
       "      <th>review_length</th>\n",
       "    </tr>\n",
       "  </thead>\n",
       "  <tbody>\n",
       "    <tr>\n",
       "      <th>26</th>\n",
       "      <td>#NAME?</td>\n",
       "      <td>0</td>\n",
       "      <td>1</td>\n",
       "    </tr>\n",
       "    <tr>\n",
       "      <th>71</th>\n",
       "      <td>#NAME?</td>\n",
       "      <td>1</td>\n",
       "      <td>1</td>\n",
       "    </tr>\n",
       "    <tr>\n",
       "      <th>165</th>\n",
       "      <td>DELICIOUS!!</td>\n",
       "      <td>1</td>\n",
       "      <td>1</td>\n",
       "    </tr>\n",
       "    <tr>\n",
       "      <th>219</th>\n",
       "      <td>#NAME?</td>\n",
       "      <td>1</td>\n",
       "      <td>1</td>\n",
       "    </tr>\n",
       "    <tr>\n",
       "      <th>904</th>\n",
       "      <td>#NAME?</td>\n",
       "      <td>0</td>\n",
       "      <td>1</td>\n",
       "    </tr>\n",
       "    <tr>\n",
       "      <th>1185</th>\n",
       "      <td>Incredible!.</td>\n",
       "      <td>1</td>\n",
       "      <td>1</td>\n",
       "    </tr>\n",
       "    <tr>\n",
       "      <th>1463</th>\n",
       "      <td>Disappointed!.</td>\n",
       "      <td>0</td>\n",
       "      <td>1</td>\n",
       "    </tr>\n",
       "    <tr>\n",
       "      <th>1751</th>\n",
       "      <td>disappointing.</td>\n",
       "      <td>0</td>\n",
       "      <td>1</td>\n",
       "    </tr>\n",
       "    <tr>\n",
       "      <th>1777</th>\n",
       "      <td>WORTHWHILE.</td>\n",
       "      <td>1</td>\n",
       "      <td>1</td>\n",
       "    </tr>\n",
       "    <tr>\n",
       "      <th>1877</th>\n",
       "      <td>Excellent!.</td>\n",
       "      <td>1</td>\n",
       "      <td>1</td>\n",
       "    </tr>\n",
       "    <tr>\n",
       "      <th>1993</th>\n",
       "      <td>disappointed.</td>\n",
       "      <td>0</td>\n",
       "      <td>1</td>\n",
       "    </tr>\n",
       "    <tr>\n",
       "      <th>2124</th>\n",
       "      <td>Brilliant!</td>\n",
       "      <td>1</td>\n",
       "      <td>1</td>\n",
       "    </tr>\n",
       "    <tr>\n",
       "      <th>2125</th>\n",
       "      <td>10-Oct</td>\n",
       "      <td>1</td>\n",
       "      <td>1</td>\n",
       "    </tr>\n",
       "    <tr>\n",
       "      <th>2155</th>\n",
       "      <td>Horrible!</td>\n",
       "      <td>0</td>\n",
       "      <td>1</td>\n",
       "    </tr>\n",
       "    <tr>\n",
       "      <th>2162</th>\n",
       "      <td>Awful.</td>\n",
       "      <td>0</td>\n",
       "      <td>1</td>\n",
       "    </tr>\n",
       "  </tbody>\n",
       "</table>\n",
       "</div>"
      ],
      "text/plain": [
       "            Sentence  Polarity  review_length\n",
       "26            #NAME?         0              1\n",
       "71            #NAME?         1              1\n",
       "165      DELICIOUS!!         1              1\n",
       "219           #NAME?         1              1\n",
       "904           #NAME?         0              1\n",
       "1185    Incredible!.         1              1\n",
       "1463  Disappointed!.         0              1\n",
       "1751  disappointing.         0              1\n",
       "1777     WORTHWHILE.         1              1\n",
       "1877     Excellent!.         1              1\n",
       "1993   disappointed.         0              1\n",
       "2124    Brilliant!           1              1\n",
       "2125          10-Oct         1              1\n",
       "2155     Horrible!           0              1\n",
       "2162        Awful.           0              1"
      ]
     },
     "execution_count": 65,
     "metadata": {},
     "output_type": "execute_result"
    }
   ],
   "source": [
    "createLengthCol(df_train,'Sentence')\n",
    "df_train[df_train.review_length==1]"
   ]
  },
  {
   "cell_type": "markdown",
   "metadata": {},
   "source": [
    "> We need to remove the rows with data as '#NAME?'"
   ]
  },
  {
   "cell_type": "code",
   "execution_count": 66,
   "metadata": {},
   "outputs": [],
   "source": [
    "df_train = df_train.drop(df_train[df_train.Sentence == \"#NAME?\"].index).reset_index(drop = True)"
   ]
  },
  {
   "cell_type": "code",
   "execution_count": 70,
   "metadata": {},
   "outputs": [],
   "source": [
    "df_train = df_train.drop_duplicates().reset_index(drop = True)"
   ]
  },
  {
   "cell_type": "markdown",
   "metadata": {},
   "source": [
    "#### Method to clean data"
   ]
  },
  {
   "cell_type": "code",
   "execution_count": 72,
   "metadata": {},
   "outputs": [],
   "source": [
    "#Method to clean data\n",
    "#Remove punctuations\n",
    "#Remove numbers\n",
    "#Lowercase the string\n",
    "#Split the strings on white spaces\n",
    "#Remove Stopwords\n",
    "#Lemmatization\n",
    "\n",
    "lemmatizer = WordNetLemmatizer()\n",
    "\n",
    "#exclude_words = set((\"not\", \"wasn't\"))\n",
    "#new_stop_words = set(stopwords.words('english')) - exclude_words\n",
    "\n",
    "def text_cleaner(text):\n",
    "    r = re.sub(r'[^\\w\\s]', ' ', text)\n",
    "    r = r.translate(str.maketrans(\"\",\"\",string.punctuation)) \n",
    "    r = re.sub(r'\\d+', '',r) \n",
    "    r = r.lower()\n",
    "    r = r.split()\n",
    "    r = [word for word in r if word not in stopwords.words('english')]\n",
    "    r = [lemmatizer.lemmatize(word) for word in r]\n",
    "    r = ' '.join(r)\n",
    "    return r"
   ]
  },
  {
   "cell_type": "code",
   "execution_count": 73,
   "metadata": {},
   "outputs": [],
   "source": [
    "df_train['clean_sentence'] = df_train.Sentence.apply(lambda text:text_cleaner(text))\n",
    "createLengthCol(df_train,'clean_sentence')"
   ]
  },
  {
   "cell_type": "markdown",
   "metadata": {},
   "source": [
    "#### Separate Features with Label"
   ]
  },
  {
   "cell_type": "code",
   "execution_count": 74,
   "metadata": {},
   "outputs": [],
   "source": [
    "X = df_train.drop(columns  = [\"Polarity\"])\n",
    "y = df_train.Polarity"
   ]
  },
  {
   "cell_type": "markdown",
   "metadata": {},
   "source": [
    "#### Apply Count Vectorizer on cleaned sentence feature"
   ]
  },
  {
   "cell_type": "code",
   "execution_count": 75,
   "metadata": {},
   "outputs": [],
   "source": [
    "cv = CountVectorizer()\n",
    "X_cv = cv.fit_transform(X.clean_sentence)"
   ]
  },
  {
   "cell_type": "code",
   "execution_count": 76,
   "metadata": {},
   "outputs": [],
   "source": [
    "X = pd.concat([X,pd.DataFrame(data=X_cv.toarray(), columns = cv.get_feature_names())],axis = 1).drop(columns = ['Sentence','clean_sentence'])"
   ]
  },
  {
   "cell_type": "code",
   "execution_count": 77,
   "metadata": {},
   "outputs": [
    {
     "data": {
      "text/plain": [
       "(2381, 3499)"
      ]
     },
     "execution_count": 77,
     "metadata": {},
     "output_type": "execute_result"
    }
   ],
   "source": [
    "X.shape"
   ]
  },
  {
   "cell_type": "markdown",
   "metadata": {},
   "source": [
    "#### Preprocessing on Test"
   ]
  },
  {
   "cell_type": "code",
   "execution_count": 78,
   "metadata": {},
   "outputs": [
    {
     "data": {
      "text/html": [
       "<div>\n",
       "<style scoped>\n",
       "    .dataframe tbody tr th:only-of-type {\n",
       "        vertical-align: middle;\n",
       "    }\n",
       "\n",
       "    .dataframe tbody tr th {\n",
       "        vertical-align: top;\n",
       "    }\n",
       "\n",
       "    .dataframe thead th {\n",
       "        text-align: right;\n",
       "    }\n",
       "</style>\n",
       "<table border=\"1\" class=\"dataframe\">\n",
       "  <thead>\n",
       "    <tr style=\"text-align: right;\">\n",
       "      <th></th>\n",
       "      <th>Sentence</th>\n",
       "      <th>Polarity</th>\n",
       "    </tr>\n",
       "  </thead>\n",
       "  <tbody>\n",
       "    <tr>\n",
       "      <th>0</th>\n",
       "      <td>A good commentary of today's love and undoubtedly a film worth seeing.</td>\n",
       "      <td>1</td>\n",
       "    </tr>\n",
       "    <tr>\n",
       "      <th>1</th>\n",
       "      <td>For people who are first timers in film making, I think they did an excellent job!!</td>\n",
       "      <td>1</td>\n",
       "    </tr>\n",
       "  </tbody>\n",
       "</table>\n",
       "</div>"
      ],
      "text/plain": [
       "                                                                                Sentence  \\\n",
       "0               A good commentary of today's love and undoubtedly a film worth seeing.     \n",
       "1  For people who are first timers in film making, I think they did an excellent job!!     \n",
       "\n",
       "   Polarity  \n",
       "0         1  \n",
       "1         1  "
      ]
     },
     "execution_count": 78,
     "metadata": {},
     "output_type": "execute_result"
    }
   ],
   "source": [
    "df_test.head(2)"
   ]
  },
  {
   "cell_type": "code",
   "execution_count": 91,
   "metadata": {},
   "outputs": [
    {
     "name": "stdout",
     "output_type": "stream",
     "text": [
      "    Sentence  Polarity  review_length clean_sentence\n",
      "388   10-Oct         1              1            oct\n"
     ]
    }
   ],
   "source": [
    "createLengthCol(df_test,'Sentence')\n",
    "print(df_test[df_test.review_length==1])\n",
    "df_test = df_test.drop_duplicates().reset_index(drop = True)\n",
    "df_test['clean_sentence'] = df_test.Sentence.apply(lambda text:text_cleaner(text))\n",
    "createLengthCol(df_test,'clean_sentence')"
   ]
  },
  {
   "cell_type": "code",
   "execution_count": 92,
   "metadata": {},
   "outputs": [],
   "source": [
    "X_test = df_test.drop(columns  = [\"Polarity\"])\n",
    "y_test = df_test.Polarity"
   ]
  },
  {
   "cell_type": "code",
   "execution_count": 93,
   "metadata": {},
   "outputs": [],
   "source": [
    "X_test_cv = cv.transform(X_test.clean_sentence)\n",
    "X_test = pd.concat([X_test,pd.DataFrame(data=X_test_cv.toarray(), columns = cv.get_feature_names())],axis = 1).drop(columns = ['Sentence','clean_sentence'])"
   ]
  },
  {
   "cell_type": "code",
   "execution_count": 94,
   "metadata": {},
   "outputs": [
    {
     "data": {
      "text/html": [
       "<div>\n",
       "<style scoped>\n",
       "    .dataframe tbody tr th:only-of-type {\n",
       "        vertical-align: middle;\n",
       "    }\n",
       "\n",
       "    .dataframe tbody tr th {\n",
       "        vertical-align: top;\n",
       "    }\n",
       "\n",
       "    .dataframe thead th {\n",
       "        text-align: right;\n",
       "    }\n",
       "</style>\n",
       "<table border=\"1\" class=\"dataframe\">\n",
       "  <thead>\n",
       "    <tr style=\"text-align: right;\">\n",
       "      <th></th>\n",
       "      <th>review_length</th>\n",
       "      <th>abhor</th>\n",
       "      <th>ability</th>\n",
       "      <th>able</th>\n",
       "      <th>abound</th>\n",
       "      <th>absolute</th>\n",
       "      <th>absolutel</th>\n",
       "      <th>absolutely</th>\n",
       "      <th>absolutley</th>\n",
       "      <th>abstruse</th>\n",
       "      <th>...</th>\n",
       "      <th>yet</th>\n",
       "      <th>young</th>\n",
       "      <th>youthful</th>\n",
       "      <th>yucky</th>\n",
       "      <th>yukon</th>\n",
       "      <th>yum</th>\n",
       "      <th>yummy</th>\n",
       "      <th>za</th>\n",
       "      <th>zero</th>\n",
       "      <th>zombiez</th>\n",
       "    </tr>\n",
       "  </thead>\n",
       "  <tbody>\n",
       "    <tr>\n",
       "      <th>0</th>\n",
       "      <td>8</td>\n",
       "      <td>0</td>\n",
       "      <td>0</td>\n",
       "      <td>0</td>\n",
       "      <td>0</td>\n",
       "      <td>0</td>\n",
       "      <td>0</td>\n",
       "      <td>0</td>\n",
       "      <td>0</td>\n",
       "      <td>0</td>\n",
       "      <td>...</td>\n",
       "      <td>0</td>\n",
       "      <td>0</td>\n",
       "      <td>0</td>\n",
       "      <td>0</td>\n",
       "      <td>0</td>\n",
       "      <td>0</td>\n",
       "      <td>0</td>\n",
       "      <td>0</td>\n",
       "      <td>0</td>\n",
       "      <td>0</td>\n",
       "    </tr>\n",
       "    <tr>\n",
       "      <th>1</th>\n",
       "      <td>8</td>\n",
       "      <td>0</td>\n",
       "      <td>0</td>\n",
       "      <td>0</td>\n",
       "      <td>0</td>\n",
       "      <td>0</td>\n",
       "      <td>0</td>\n",
       "      <td>0</td>\n",
       "      <td>0</td>\n",
       "      <td>0</td>\n",
       "      <td>...</td>\n",
       "      <td>0</td>\n",
       "      <td>0</td>\n",
       "      <td>0</td>\n",
       "      <td>0</td>\n",
       "      <td>0</td>\n",
       "      <td>0</td>\n",
       "      <td>0</td>\n",
       "      <td>0</td>\n",
       "      <td>0</td>\n",
       "      <td>0</td>\n",
       "    </tr>\n",
       "  </tbody>\n",
       "</table>\n",
       "<p>2 rows × 3499 columns</p>\n",
       "</div>"
      ],
      "text/plain": [
       "   review_length  abhor  ability  able  abound  absolute  absolutel  \\\n",
       "0              8      0        0     0       0         0          0   \n",
       "1              8      0        0     0       0         0          0   \n",
       "\n",
       "   absolutely  absolutley  abstruse  ...  yet  young  youthful  yucky  yukon  \\\n",
       "0           0           0         0  ...    0      0         0      0      0   \n",
       "1           0           0         0  ...    0      0         0      0      0   \n",
       "\n",
       "   yum  yummy  za  zero  zombiez  \n",
       "0    0      0   0     0        0  \n",
       "1    0      0   0     0        0  \n",
       "\n",
       "[2 rows x 3499 columns]"
      ]
     },
     "execution_count": 94,
     "metadata": {},
     "output_type": "execute_result"
    }
   ],
   "source": [
    "X_test.head(2)"
   ]
  },
  {
   "cell_type": "markdown",
   "metadata": {},
   "source": [
    "### Part 1.b. Modeling\n",
    "\n",
    "Use your favorite ML algorithm to train a classification model.  Don’t forget everything that we’ve learned in our ML course: hyperparameter tuning, cross validation, handling imbalanced data, etc. Make reasonable decisions and try to create the best-performing classifier that you can."
   ]
  },
  {
   "cell_type": "markdown",
   "metadata": {},
   "source": [
    "#### Logistic Regression base model with 10 fold Cross Validation"
   ]
  },
  {
   "cell_type": "code",
   "execution_count": 84,
   "metadata": {
    "scrolled": true
   },
   "outputs": [],
   "source": [
    "lr = LogisticRegression()\n",
    "\n",
    "scoring = {'acc': 'accuracy',\n",
    "           'prec_macro': 'precision_macro',\n",
    "           'rec_micro': 'recall_macro',\n",
    "           'f1_macr':'f1_macro',\n",
    "           'roc_auc':'roc_auc'}\n",
    "scores = pd.DataFrame(cross_validate(lr, X=X, y=y,scoring=scoring, cv=10, n_jobs=-1))"
   ]
  },
  {
   "cell_type": "code",
   "execution_count": 85,
   "metadata": {
    "scrolled": true
   },
   "outputs": [
    {
     "data": {
      "text/plain": [
       "9    0.726142\n",
       "8    0.729387\n",
       "0    0.752982\n",
       "6    0.776423\n",
       "1    0.783324\n",
       "3    0.785711\n",
       "4    0.823330\n",
       "2    0.831743\n",
       "7    0.835481\n",
       "5    0.836062\n",
       "Name: test_f1_macr, dtype: float64"
      ]
     },
     "execution_count": 85,
     "metadata": {},
     "output_type": "execute_result"
    }
   ],
   "source": [
    "scores.test_f1_macr.sort_values()"
   ]
  },
  {
   "cell_type": "code",
   "execution_count": 86,
   "metadata": {},
   "outputs": [
    {
     "data": {
      "text/plain": [
       "LogisticRegression(C=1.0, class_weight=None, dual=False, fit_intercept=True,\n",
       "                   intercept_scaling=1, l1_ratio=None, max_iter=100,\n",
       "                   multi_class='auto', n_jobs=None, penalty='l2',\n",
       "                   random_state=None, solver='lbfgs', tol=0.0001, verbose=0,\n",
       "                   warm_start=False)"
      ]
     },
     "execution_count": 86,
     "metadata": {},
     "output_type": "execute_result"
    }
   ],
   "source": [
    "lr.fit(X,y)"
   ]
  },
  {
   "cell_type": "markdown",
   "metadata": {},
   "source": [
    "#### Logistic Regression Hyperparameter Tuned Model"
   ]
  },
  {
   "cell_type": "code",
   "execution_count": 87,
   "metadata": {},
   "outputs": [
    {
     "name": "stdout",
     "output_type": "stream",
     "text": [
      "Best Score: 0.7880583179617029\n",
      "Best Hyperparameters: {'C': 1, 'penalty': 'l2', 'solver': 'newton-cg'}\n"
     ]
    }
   ],
   "source": [
    "param_dict = {\n",
    "'solver' : ['newton-cg', 'lbfgs', 'liblinear'],\n",
    "'penalty' : ['none', 'l1', 'l2', 'elasticnet'],\n",
    "'C' : [1e-5, 1e-4, 1e-3, 1e-2, 1e-1, 1, 10, 100]    \n",
    "}\n",
    "\n",
    "# define search\n",
    "search = GridSearchCV(lr, param_dict, scoring='f1_macro', n_jobs=-1, cv=10)\n",
    "# execute search\n",
    "result = search.fit(X, y)\n",
    "# summarize result\n",
    "print('Best Score: %s' % result.best_score_)\n",
    "print('Best Hyperparameters: %s' % result.best_params_)"
   ]
  },
  {
   "cell_type": "code",
   "execution_count": 88,
   "metadata": {},
   "outputs": [
    {
     "data": {
      "text/html": [
       "<div>\n",
       "<style scoped>\n",
       "    .dataframe tbody tr th:only-of-type {\n",
       "        vertical-align: middle;\n",
       "    }\n",
       "\n",
       "    .dataframe tbody tr th {\n",
       "        vertical-align: top;\n",
       "    }\n",
       "\n",
       "    .dataframe thead th {\n",
       "        text-align: right;\n",
       "    }\n",
       "</style>\n",
       "<table border=\"1\" class=\"dataframe\">\n",
       "  <thead>\n",
       "    <tr style=\"text-align: right;\">\n",
       "      <th></th>\n",
       "      <th>fit_time</th>\n",
       "      <th>score_time</th>\n",
       "      <th>test_acc</th>\n",
       "      <th>test_prec_macro</th>\n",
       "      <th>test_rec_micro</th>\n",
       "      <th>test_f1_macr</th>\n",
       "      <th>test_roc_auc</th>\n",
       "    </tr>\n",
       "  </thead>\n",
       "  <tbody>\n",
       "    <tr>\n",
       "      <th>0</th>\n",
       "      <td>5.885782</td>\n",
       "      <td>0.171514</td>\n",
       "      <td>0.753138</td>\n",
       "      <td>0.753261</td>\n",
       "      <td>0.752942</td>\n",
       "      <td>0.752982</td>\n",
       "      <td>0.862796</td>\n",
       "    </tr>\n",
       "    <tr>\n",
       "      <th>1</th>\n",
       "      <td>5.925709</td>\n",
       "      <td>0.168447</td>\n",
       "      <td>0.785714</td>\n",
       "      <td>0.796945</td>\n",
       "      <td>0.784887</td>\n",
       "      <td>0.783324</td>\n",
       "      <td>0.873588</td>\n",
       "    </tr>\n",
       "    <tr>\n",
       "      <th>2</th>\n",
       "      <td>5.903172</td>\n",
       "      <td>0.166751</td>\n",
       "      <td>0.831933</td>\n",
       "      <td>0.832837</td>\n",
       "      <td>0.831709</td>\n",
       "      <td>0.831743</td>\n",
       "      <td>0.901483</td>\n",
       "    </tr>\n",
       "    <tr>\n",
       "      <th>3</th>\n",
       "      <td>5.531316</td>\n",
       "      <td>0.358304</td>\n",
       "      <td>0.785714</td>\n",
       "      <td>0.785866</td>\n",
       "      <td>0.785805</td>\n",
       "      <td>0.785711</td>\n",
       "      <td>0.871681</td>\n",
       "    </tr>\n",
       "    <tr>\n",
       "      <th>4</th>\n",
       "      <td>5.102150</td>\n",
       "      <td>0.355429</td>\n",
       "      <td>0.823529</td>\n",
       "      <td>0.825710</td>\n",
       "      <td>0.823870</td>\n",
       "      <td>0.823330</td>\n",
       "      <td>0.914689</td>\n",
       "    </tr>\n",
       "    <tr>\n",
       "      <th>5</th>\n",
       "      <td>5.446565</td>\n",
       "      <td>0.281749</td>\n",
       "      <td>0.836134</td>\n",
       "      <td>0.836373</td>\n",
       "      <td>0.836017</td>\n",
       "      <td>0.836062</td>\n",
       "      <td>0.906709</td>\n",
       "    </tr>\n",
       "    <tr>\n",
       "      <th>6</th>\n",
       "      <td>5.483677</td>\n",
       "      <td>0.146308</td>\n",
       "      <td>0.777311</td>\n",
       "      <td>0.779731</td>\n",
       "      <td>0.776471</td>\n",
       "      <td>0.776423</td>\n",
       "      <td>0.867062</td>\n",
       "    </tr>\n",
       "    <tr>\n",
       "      <th>7</th>\n",
       "      <td>5.388414</td>\n",
       "      <td>0.210509</td>\n",
       "      <td>0.836134</td>\n",
       "      <td>0.839265</td>\n",
       "      <td>0.835311</td>\n",
       "      <td>0.835481</td>\n",
       "      <td>0.882320</td>\n",
       "    </tr>\n",
       "    <tr>\n",
       "      <th>8</th>\n",
       "      <td>3.005271</td>\n",
       "      <td>0.139673</td>\n",
       "      <td>0.739496</td>\n",
       "      <td>0.773824</td>\n",
       "      <td>0.736455</td>\n",
       "      <td>0.729387</td>\n",
       "      <td>0.807798</td>\n",
       "    </tr>\n",
       "    <tr>\n",
       "      <th>9</th>\n",
       "      <td>2.968801</td>\n",
       "      <td>0.086334</td>\n",
       "      <td>0.731092</td>\n",
       "      <td>0.744514</td>\n",
       "      <td>0.729039</td>\n",
       "      <td>0.726142</td>\n",
       "      <td>0.793636</td>\n",
       "    </tr>\n",
       "  </tbody>\n",
       "</table>\n",
       "</div>"
      ],
      "text/plain": [
       "   fit_time  score_time  test_acc  test_prec_macro  test_rec_micro  \\\n",
       "0  5.885782    0.171514  0.753138         0.753261        0.752942   \n",
       "1  5.925709    0.168447  0.785714         0.796945        0.784887   \n",
       "2  5.903172    0.166751  0.831933         0.832837        0.831709   \n",
       "3  5.531316    0.358304  0.785714         0.785866        0.785805   \n",
       "4  5.102150    0.355429  0.823529         0.825710        0.823870   \n",
       "5  5.446565    0.281749  0.836134         0.836373        0.836017   \n",
       "6  5.483677    0.146308  0.777311         0.779731        0.776471   \n",
       "7  5.388414    0.210509  0.836134         0.839265        0.835311   \n",
       "8  3.005271    0.139673  0.739496         0.773824        0.736455   \n",
       "9  2.968801    0.086334  0.731092         0.744514        0.729039   \n",
       "\n",
       "   test_f1_macr  test_roc_auc  \n",
       "0      0.752982      0.862796  \n",
       "1      0.783324      0.873588  \n",
       "2      0.831743      0.901483  \n",
       "3      0.785711      0.871681  \n",
       "4      0.823330      0.914689  \n",
       "5      0.836062      0.906709  \n",
       "6      0.776423      0.867062  \n",
       "7      0.835481      0.882320  \n",
       "8      0.729387      0.807798  \n",
       "9      0.726142      0.793636  "
      ]
     },
     "execution_count": 88,
     "metadata": {},
     "output_type": "execute_result"
    }
   ],
   "source": [
    "lr_tuned = LogisticRegression(C=1, penalty='l2',solver='newton-cg')\n",
    "scores_tuned = pd.DataFrame(cross_validate(lr_tuned, X=X, y=y,scoring=scoring, cv=10, n_jobs=-1))\n",
    "scores_tuned"
   ]
  },
  {
   "cell_type": "code",
   "execution_count": 89,
   "metadata": {},
   "outputs": [
    {
     "data": {
      "text/plain": [
       "LogisticRegression(C=1, class_weight=None, dual=False, fit_intercept=True,\n",
       "                   intercept_scaling=1, l1_ratio=None, max_iter=100,\n",
       "                   multi_class='auto', n_jobs=None, penalty='l2',\n",
       "                   random_state=None, solver='newton-cg', tol=0.0001, verbose=0,\n",
       "                   warm_start=False)"
      ]
     },
     "execution_count": 89,
     "metadata": {},
     "output_type": "execute_result"
    }
   ],
   "source": [
    "lr_tuned.fit(X,y)"
   ]
  },
  {
   "cell_type": "markdown",
   "metadata": {},
   "source": [
    "### Part 1.c. Assessing\n",
    "\n",
    "Use the testing data to measure the accuracy and F1-score of your model.  "
   ]
  },
  {
   "cell_type": "code",
   "execution_count": 95,
   "metadata": {},
   "outputs": [],
   "source": [
    "predictions = lr.predict(X_test)"
   ]
  },
  {
   "cell_type": "code",
   "execution_count": 96,
   "metadata": {
    "scrolled": true
   },
   "outputs": [
    {
     "data": {
      "text/plain": [
       "array([[254,  32],\n",
       "       [113, 200]])"
      ]
     },
     "execution_count": 96,
     "metadata": {},
     "output_type": "execute_result"
    }
   ],
   "source": [
    "metrics.confusion_matrix(y_test,predictions)"
   ]
  },
  {
   "cell_type": "code",
   "execution_count": 97,
   "metadata": {},
   "outputs": [
    {
     "data": {
      "text/plain": [
       "array([[254,  32],\n",
       "       [113, 200]])"
      ]
     },
     "execution_count": 97,
     "metadata": {},
     "output_type": "execute_result"
    }
   ],
   "source": [
    "metrics.confusion_matrix(y_test,predictions)"
   ]
  },
  {
   "cell_type": "code",
   "execution_count": 98,
   "metadata": {
    "scrolled": false
   },
   "outputs": [
    {
     "name": "stdout",
     "output_type": "stream",
     "text": [
      "              precision    recall  f1-score   support\n",
      "\n",
      "           0       0.69      0.89      0.78       286\n",
      "           1       0.86      0.64      0.73       313\n",
      "\n",
      "    accuracy                           0.76       599\n",
      "   macro avg       0.78      0.76      0.76       599\n",
      "weighted avg       0.78      0.76      0.75       599\n",
      "\n"
     ]
    }
   ],
   "source": [
    "print(classification_report(y_test,predictions))"
   ]
  },
  {
   "cell_type": "code",
   "execution_count": 99,
   "metadata": {},
   "outputs": [
    {
     "data": {
      "text/plain": [
       "<sklearn.metrics._plot.roc_curve.RocCurveDisplay at 0x16b9f3ed0>"
      ]
     },
     "execution_count": 99,
     "metadata": {},
     "output_type": "execute_result"
    },
    {
     "data": {
      "image/png": "[encoded data removed]",
      "text/plain": [
       "<Figure size 432x288 with 1 Axes>"
      ]
     },
     "metadata": {
      "needs_background": "light"
     },
     "output_type": "display_data"
    }
   ],
   "source": [
    "plot_roc_curve(lr, X_test, y_test)"
   ]
  },
  {
   "cell_type": "markdown",
   "metadata": {},
   "source": [
    "#### After Hyperparameter Tuning"
   ]
  },
  {
   "cell_type": "code",
   "execution_count": 100,
   "metadata": {},
   "outputs": [
    {
     "name": "stdout",
     "output_type": "stream",
     "text": [
      "[[254  32]\n",
      " [112 201]]\n",
      "              precision    recall  f1-score   support\n",
      "\n",
      "           0       0.69      0.89      0.78       286\n",
      "           1       0.86      0.64      0.74       313\n",
      "\n",
      "    accuracy                           0.76       599\n",
      "   macro avg       0.78      0.77      0.76       599\n",
      "weighted avg       0.78      0.76      0.76       599\n",
      "\n"
     ]
    }
   ],
   "source": [
    "tuned_predictions = lr_tuned.predict(X_test)\n",
    "print(metrics.confusion_matrix(y_test,tuned_predictions))\n",
    "print(classification_report(y_test,tuned_predictions))"
   ]
  },
  {
   "cell_type": "code",
   "execution_count": 101,
   "metadata": {},
   "outputs": [
    {
     "data": {
      "text/plain": [
       "<sklearn.metrics._plot.roc_curve.RocCurveDisplay at 0x16b50cf90>"
      ]
     },
     "execution_count": 101,
     "metadata": {},
     "output_type": "execute_result"
    },
    {
     "data": {
      "image/png": "[encoded data removed]",
      "text/plain": [
       "<Figure size 432x288 with 1 Axes>"
      ]
     },
     "metadata": {
      "needs_background": "light"
     },
     "output_type": "display_data"
    }
   ],
   "source": [
    "plot_roc_curve(lr_tuned, X_test, y_test)"
   ]
  },
  {
   "cell_type": "markdown",
   "metadata": {},
   "source": [
    "### Part 2. Given the accuracy and F1-score of your model, are you satisfied with the results, from a business point of view? Explain."
   ]
  },
  {
   "cell_type": "markdown",
   "metadata": {},
   "source": [
    "- It is entirely dependent on the problem we are attempting to solve with this paradigm.\n",
    "- The ratio of accurately anticipated observations to total observations is known as accuracy. Our model has an accuracy of 76%, which is reasonable; nevertheless, we would have to analyse our model using additional performance metrics such as the F1-score.\n",
    "- The F1 score is weighted average of precision and recall (or sensitivity). The precision metric answers the question that from the customers the model labeled as 1, how many actually were correctly labeled as 1. High precision is related to low false positive rates. Our precision is about 86% which is good. \n",
    "- On the other hand, Recall is the ratio of correctly predicted positive obersvations to all the observations in the actual class label=1. As mentioned above, our Recall is 69% which is reasonable, however, not as good as precision. Therefore, Recall is taking a hit on F1 score, which is 78%. \n",
    "- It interpretation can further be explained by confusion matrix below and we can see that False Negative are considerably higher in number as compared to False Positives.\n",
    "[[254  33]\n",
    " [112 201]]\n",
    "- Hence, with the accuracy and the precision of our model, from a business standpoint, we can say that our model is able to predict the polarity of the sentence 76% of the times however, with the 24% wrong predictions, we need to be careful as to what is the actual use case where this model might be used and what impact would the inefficiency of the model will result in."
   ]
  },
  {
   "cell_type": "markdown",
   "metadata": {},
   "source": [
    "### Part 3. Show five example instances in which your model’s predictions were incorrect. Describe why you think the model was wrong. Don’t just guess: dig deep to figure out the root cause."
   ]
  },
  {
   "cell_type": "code",
   "execution_count": 102,
   "metadata": {
    "scrolled": false
   },
   "outputs": [
    {
     "data": {
      "text/html": [
       "<div>\n",
       "<style scoped>\n",
       "    .dataframe tbody tr th:only-of-type {\n",
       "        vertical-align: middle;\n",
       "    }\n",
       "\n",
       "    .dataframe tbody tr th {\n",
       "        vertical-align: top;\n",
       "    }\n",
       "\n",
       "    .dataframe thead th {\n",
       "        text-align: right;\n",
       "    }\n",
       "</style>\n",
       "<table border=\"1\" class=\"dataframe\">\n",
       "  <thead>\n",
       "    <tr style=\"text-align: right;\">\n",
       "      <th></th>\n",
       "      <th>Sentence</th>\n",
       "      <th>clean_sentence</th>\n",
       "      <th>Polarity</th>\n",
       "      <th>predictions</th>\n",
       "    </tr>\n",
       "  </thead>\n",
       "  <tbody>\n",
       "    <tr>\n",
       "      <th>53</th>\n",
       "      <td>Not even good for camp value!</td>\n",
       "      <td>even good camp value</td>\n",
       "      <td>0</td>\n",
       "      <td>1</td>\n",
       "    </tr>\n",
       "    <tr>\n",
       "      <th>36</th>\n",
       "      <td>The soundtrack wasn't terrible, either.</td>\n",
       "      <td>soundtrack terrible either</td>\n",
       "      <td>1</td>\n",
       "      <td>0</td>\n",
       "    </tr>\n",
       "    <tr>\n",
       "      <th>81</th>\n",
       "      <td>And, FINALLY, after all that, we get to an ending that would've been great had it been handled by competent people and not Jerry Falwell.</td>\n",
       "      <td>finally get ending would great handled competent people jerry falwell</td>\n",
       "      <td>0</td>\n",
       "      <td>1</td>\n",
       "    </tr>\n",
       "    <tr>\n",
       "      <th>172</th>\n",
       "      <td>Not recommended.</td>\n",
       "      <td>recommended</td>\n",
       "      <td>0</td>\n",
       "      <td>1</td>\n",
       "    </tr>\n",
       "    <tr>\n",
       "      <th>242</th>\n",
       "      <td>The cast is always entertaining as usual.</td>\n",
       "      <td>cast always entertaining usual</td>\n",
       "      <td>1</td>\n",
       "      <td>1</td>\n",
       "    </tr>\n",
       "  </tbody>\n",
       "</table>\n",
       "</div>"
      ],
      "text/plain": [
       "                                                                                                                                        Sentence  \\\n",
       "53                                                                                                               Not even good for camp value!     \n",
       "36                                                                                                     The soundtrack wasn't terrible, either.     \n",
       "81   And, FINALLY, after all that, we get to an ending that would've been great had it been handled by competent people and not Jerry Falwell.     \n",
       "172                                                                                                                           Not recommended.     \n",
       "242                                                                                                  The cast is always entertaining as usual.     \n",
       "\n",
       "                                                            clean_sentence  \\\n",
       "53                                                    even good camp value   \n",
       "36                                              soundtrack terrible either   \n",
       "81   finally get ending would great handled competent people jerry falwell   \n",
       "172                                                            recommended   \n",
       "242                                         cast always entertaining usual   \n",
       "\n",
       "     Polarity  predictions  \n",
       "53          0            1  \n",
       "36          1            0  \n",
       "81          0            1  \n",
       "172         0            1  \n",
       "242         1            1  "
      ]
     },
     "execution_count": 102,
     "metadata": {},
     "output_type": "execute_result"
    }
   ],
   "source": [
    "pd.set_option('display.max_colwidth', None)\n",
    "df_test_pred = df_test[['Sentence','clean_sentence','Polarity']]\n",
    "df_test_pred['predictions'] =predictions\n",
    "(df_test_pred[df_test_pred.Polarity != predictions])\n",
    "df_test_pred.loc[[53,36,81,172,242]]"
   ]
  },
  {
   "cell_type": "markdown",
   "metadata": {},
   "source": [
    "- Out of the 600 rows in the Test Dataset, there are about 145 number of predictions that are wrongly classified by the Logistic Regression Model.\n",
    "- Looking at the examples, we can see that the model was trained in such a way that it categorized a few words like 'good', 'great', 'recommended' as positive words and positive instances and therefore classfied/Predicted it with a Polarity of 1\n",
    "- Similarly, looking at the other instances, the model categorized the words like 'terrible', 'ending', 'boring' etc as negative words and negative instances and therefore classified/predicted the sentence with a polarity of 0.\n",
    "- Some of the words like 'Not' and 'wasn't' were cleaned using the user-defined method and it led to removal of punctuations and furthermore led to removal of the words because of them being a part of the Stop Words. Hence the meaning of the sentence was completely negated.\n",
    "- Digging down further, we can see that the data cleaning and preprocessing here could have been improved by adding more features like sentiment score, checking the actual polarity of the sentence using TextBlob etc.\n",
    "- We tried removing the words like 'Not' and 'Wasnt' from the stop words and then the incorrect predictions were corrected."
   ]
  },
  {
   "cell_type": "markdown",
   "metadata": {},
   "source": [
    "## TESTING PYCARET CLASSIFICATION"
   ]
  },
  {
   "cell_type": "code",
   "execution_count": 36,
   "metadata": {},
   "outputs": [],
   "source": [
    "X_pyc = X\n",
    "X_pyc['Polarity'] = y"
   ]
  },
  {
   "cell_type": "code",
   "execution_count": 37,
   "metadata": {},
   "outputs": [
    {
     "data": {
      "text/html": [
       "<style type=\"text/css\">\n",
       "#T_76dfd_row44_col1 {\n",
       "  background-color: lightgreen;\n",
       "}\n",
       "</style>\n",
       "<table id=\"T_76dfd_\">\n",
       "  <thead>\n",
       "    <tr>\n",
       "      <th class=\"blank level0\" >&nbsp;</th>\n",
       "      <th class=\"col_heading level0 col0\" >Description</th>\n",
       "      <th class=\"col_heading level0 col1\" >Value</th>\n",
       "    </tr>\n",
       "  </thead>\n",
       "  <tbody>\n",
       "    <tr>\n",
       "      <th id=\"T_76dfd_level0_row0\" class=\"row_heading level0 row0\" >0</th>\n",
       "      <td id=\"T_76dfd_row0_col0\" class=\"data row0 col0\" >session_id</td>\n",
       "      <td id=\"T_76dfd_row0_col1\" class=\"data row0 col1\" >3044</td>\n",
       "    </tr>\n",
       "    <tr>\n",
       "      <th id=\"T_76dfd_level0_row1\" class=\"row_heading level0 row1\" >1</th>\n",
       "      <td id=\"T_76dfd_row1_col0\" class=\"data row1 col0\" >Target</td>\n",
       "      <td id=\"T_76dfd_row1_col1\" class=\"data row1 col1\" >Polarity</td>\n",
       "    </tr>\n",
       "    <tr>\n",
       "      <th id=\"T_76dfd_level0_row2\" class=\"row_heading level0 row2\" >2</th>\n",
       "      <td id=\"T_76dfd_row2_col0\" class=\"data row2 col0\" >Target Type</td>\n",
       "      <td id=\"T_76dfd_row2_col1\" class=\"data row2 col1\" >Binary</td>\n",
       "    </tr>\n",
       "    <tr>\n",
       "      <th id=\"T_76dfd_level0_row3\" class=\"row_heading level0 row3\" >3</th>\n",
       "      <td id=\"T_76dfd_row3_col0\" class=\"data row3 col0\" >Label Encoded</td>\n",
       "      <td id=\"T_76dfd_row3_col1\" class=\"data row3 col1\" >None</td>\n",
       "    </tr>\n",
       "    <tr>\n",
       "      <th id=\"T_76dfd_level0_row4\" class=\"row_heading level0 row4\" >4</th>\n",
       "      <td id=\"T_76dfd_row4_col0\" class=\"data row4 col0\" >Original Data</td>\n",
       "      <td id=\"T_76dfd_row4_col1\" class=\"data row4 col1\" >(2396, 3500)</td>\n",
       "    </tr>\n",
       "    <tr>\n",
       "      <th id=\"T_76dfd_level0_row5\" class=\"row_heading level0 row5\" >5</th>\n",
       "      <td id=\"T_76dfd_row5_col0\" class=\"data row5 col0\" >Missing Values</td>\n",
       "      <td id=\"T_76dfd_row5_col1\" class=\"data row5 col1\" >False</td>\n",
       "    </tr>\n",
       "    <tr>\n",
       "      <th id=\"T_76dfd_level0_row6\" class=\"row_heading level0 row6\" >6</th>\n",
       "      <td id=\"T_76dfd_row6_col0\" class=\"data row6 col0\" >Numeric Features</td>\n",
       "      <td id=\"T_76dfd_row6_col1\" class=\"data row6 col1\" >1</td>\n",
       "    </tr>\n",
       "    <tr>\n",
       "      <th id=\"T_76dfd_level0_row7\" class=\"row_heading level0 row7\" >7</th>\n",
       "      <td id=\"T_76dfd_row7_col0\" class=\"data row7 col0\" >Categorical Features</td>\n",
       "      <td id=\"T_76dfd_row7_col1\" class=\"data row7 col1\" >3498</td>\n",
       "    </tr>\n",
       "    <tr>\n",
       "      <th id=\"T_76dfd_level0_row8\" class=\"row_heading level0 row8\" >8</th>\n",
       "      <td id=\"T_76dfd_row8_col0\" class=\"data row8 col0\" >Ordinal Features</td>\n",
       "      <td id=\"T_76dfd_row8_col1\" class=\"data row8 col1\" >False</td>\n",
       "    </tr>\n",
       "    <tr>\n",
       "      <th id=\"T_76dfd_level0_row9\" class=\"row_heading level0 row9\" >9</th>\n",
       "      <td id=\"T_76dfd_row9_col0\" class=\"data row9 col0\" >High Cardinality Features</td>\n",
       "      <td id=\"T_76dfd_row9_col1\" class=\"data row9 col1\" >False</td>\n",
       "    </tr>\n",
       "    <tr>\n",
       "      <th id=\"T_76dfd_level0_row10\" class=\"row_heading level0 row10\" >10</th>\n",
       "      <td id=\"T_76dfd_row10_col0\" class=\"data row10 col0\" >High Cardinality Method</td>\n",
       "      <td id=\"T_76dfd_row10_col1\" class=\"data row10 col1\" >None</td>\n",
       "    </tr>\n",
       "    <tr>\n",
       "      <th id=\"T_76dfd_level0_row11\" class=\"row_heading level0 row11\" >11</th>\n",
       "      <td id=\"T_76dfd_row11_col0\" class=\"data row11 col0\" >Transformed Train Set</td>\n",
       "      <td id=\"T_76dfd_row11_col1\" class=\"data row11 col1\" >(1677, 2521)</td>\n",
       "    </tr>\n",
       "    <tr>\n",
       "      <th id=\"T_76dfd_level0_row12\" class=\"row_heading level0 row12\" >12</th>\n",
       "      <td id=\"T_76dfd_row12_col0\" class=\"data row12 col0\" >Transformed Test Set</td>\n",
       "      <td id=\"T_76dfd_row12_col1\" class=\"data row12 col1\" >(719, 2521)</td>\n",
       "    </tr>\n",
       "    <tr>\n",
       "      <th id=\"T_76dfd_level0_row13\" class=\"row_heading level0 row13\" >13</th>\n",
       "      <td id=\"T_76dfd_row13_col0\" class=\"data row13 col0\" >Shuffle Train-Test</td>\n",
       "      <td id=\"T_76dfd_row13_col1\" class=\"data row13 col1\" >True</td>\n",
       "    </tr>\n",
       "    <tr>\n",
       "      <th id=\"T_76dfd_level0_row14\" class=\"row_heading level0 row14\" >14</th>\n",
       "      <td id=\"T_76dfd_row14_col0\" class=\"data row14 col0\" >Stratify Train-Test</td>\n",
       "      <td id=\"T_76dfd_row14_col1\" class=\"data row14 col1\" >False</td>\n",
       "    </tr>\n",
       "    <tr>\n",
       "      <th id=\"T_76dfd_level0_row15\" class=\"row_heading level0 row15\" >15</th>\n",
       "      <td id=\"T_76dfd_row15_col0\" class=\"data row15 col0\" >Fold Generator</td>\n",
       "      <td id=\"T_76dfd_row15_col1\" class=\"data row15 col1\" >StratifiedKFold</td>\n",
       "    </tr>\n",
       "    <tr>\n",
       "      <th id=\"T_76dfd_level0_row16\" class=\"row_heading level0 row16\" >16</th>\n",
       "      <td id=\"T_76dfd_row16_col0\" class=\"data row16 col0\" >Fold Number</td>\n",
       "      <td id=\"T_76dfd_row16_col1\" class=\"data row16 col1\" >10</td>\n",
       "    </tr>\n",
       "    <tr>\n",
       "      <th id=\"T_76dfd_level0_row17\" class=\"row_heading level0 row17\" >17</th>\n",
       "      <td id=\"T_76dfd_row17_col0\" class=\"data row17 col0\" >CPU Jobs</td>\n",
       "      <td id=\"T_76dfd_row17_col1\" class=\"data row17 col1\" >-1</td>\n",
       "    </tr>\n",
       "    <tr>\n",
       "      <th id=\"T_76dfd_level0_row18\" class=\"row_heading level0 row18\" >18</th>\n",
       "      <td id=\"T_76dfd_row18_col0\" class=\"data row18 col0\" >Use GPU</td>\n",
       "      <td id=\"T_76dfd_row18_col1\" class=\"data row18 col1\" >False</td>\n",
       "    </tr>\n",
       "    <tr>\n",
       "      <th id=\"T_76dfd_level0_row19\" class=\"row_heading level0 row19\" >19</th>\n",
       "      <td id=\"T_76dfd_row19_col0\" class=\"data row19 col0\" >Log Experiment</td>\n",
       "      <td id=\"T_76dfd_row19_col1\" class=\"data row19 col1\" >False</td>\n",
       "    </tr>\n",
       "    <tr>\n",
       "      <th id=\"T_76dfd_level0_row20\" class=\"row_heading level0 row20\" >20</th>\n",
       "      <td id=\"T_76dfd_row20_col0\" class=\"data row20 col0\" >Experiment Name</td>\n",
       "      <td id=\"T_76dfd_row20_col1\" class=\"data row20 col1\" >clf-default-name</td>\n",
       "    </tr>\n",
       "    <tr>\n",
       "      <th id=\"T_76dfd_level0_row21\" class=\"row_heading level0 row21\" >21</th>\n",
       "      <td id=\"T_76dfd_row21_col0\" class=\"data row21 col0\" >USI</td>\n",
       "      <td id=\"T_76dfd_row21_col1\" class=\"data row21 col1\" >1d55</td>\n",
       "    </tr>\n",
       "    <tr>\n",
       "      <th id=\"T_76dfd_level0_row22\" class=\"row_heading level0 row22\" >22</th>\n",
       "      <td id=\"T_76dfd_row22_col0\" class=\"data row22 col0\" >Imputation Type</td>\n",
       "      <td id=\"T_76dfd_row22_col1\" class=\"data row22 col1\" >simple</td>\n",
       "    </tr>\n",
       "    <tr>\n",
       "      <th id=\"T_76dfd_level0_row23\" class=\"row_heading level0 row23\" >23</th>\n",
       "      <td id=\"T_76dfd_row23_col0\" class=\"data row23 col0\" >Iterative Imputation Iteration</td>\n",
       "      <td id=\"T_76dfd_row23_col1\" class=\"data row23 col1\" >None</td>\n",
       "    </tr>\n",
       "    <tr>\n",
       "      <th id=\"T_76dfd_level0_row24\" class=\"row_heading level0 row24\" >24</th>\n",
       "      <td id=\"T_76dfd_row24_col0\" class=\"data row24 col0\" >Numeric Imputer</td>\n",
       "      <td id=\"T_76dfd_row24_col1\" class=\"data row24 col1\" >mean</td>\n",
       "    </tr>\n",
       "    <tr>\n",
       "      <th id=\"T_76dfd_level0_row25\" class=\"row_heading level0 row25\" >25</th>\n",
       "      <td id=\"T_76dfd_row25_col0\" class=\"data row25 col0\" >Iterative Imputation Numeric Model</td>\n",
       "      <td id=\"T_76dfd_row25_col1\" class=\"data row25 col1\" >None</td>\n",
       "    </tr>\n",
       "    <tr>\n",
       "      <th id=\"T_76dfd_level0_row26\" class=\"row_heading level0 row26\" >26</th>\n",
       "      <td id=\"T_76dfd_row26_col0\" class=\"data row26 col0\" >Categorical Imputer</td>\n",
       "      <td id=\"T_76dfd_row26_col1\" class=\"data row26 col1\" >constant</td>\n",
       "    </tr>\n",
       "    <tr>\n",
       "      <th id=\"T_76dfd_level0_row27\" class=\"row_heading level0 row27\" >27</th>\n",
       "      <td id=\"T_76dfd_row27_col0\" class=\"data row27 col0\" >Iterative Imputation Categorical Model</td>\n",
       "      <td id=\"T_76dfd_row27_col1\" class=\"data row27 col1\" >None</td>\n",
       "    </tr>\n",
       "    <tr>\n",
       "      <th id=\"T_76dfd_level0_row28\" class=\"row_heading level0 row28\" >28</th>\n",
       "      <td id=\"T_76dfd_row28_col0\" class=\"data row28 col0\" >Unknown Categoricals Handling</td>\n",
       "      <td id=\"T_76dfd_row28_col1\" class=\"data row28 col1\" >least_frequent</td>\n",
       "    </tr>\n",
       "    <tr>\n",
       "      <th id=\"T_76dfd_level0_row29\" class=\"row_heading level0 row29\" >29</th>\n",
       "      <td id=\"T_76dfd_row29_col0\" class=\"data row29 col0\" >Normalize</td>\n",
       "      <td id=\"T_76dfd_row29_col1\" class=\"data row29 col1\" >False</td>\n",
       "    </tr>\n",
       "    <tr>\n",
       "      <th id=\"T_76dfd_level0_row30\" class=\"row_heading level0 row30\" >30</th>\n",
       "      <td id=\"T_76dfd_row30_col0\" class=\"data row30 col0\" >Normalize Method</td>\n",
       "      <td id=\"T_76dfd_row30_col1\" class=\"data row30 col1\" >None</td>\n",
       "    </tr>\n",
       "    <tr>\n",
       "      <th id=\"T_76dfd_level0_row31\" class=\"row_heading level0 row31\" >31</th>\n",
       "      <td id=\"T_76dfd_row31_col0\" class=\"data row31 col0\" >Transformation</td>\n",
       "      <td id=\"T_76dfd_row31_col1\" class=\"data row31 col1\" >False</td>\n",
       "    </tr>\n",
       "    <tr>\n",
       "      <th id=\"T_76dfd_level0_row32\" class=\"row_heading level0 row32\" >32</th>\n",
       "      <td id=\"T_76dfd_row32_col0\" class=\"data row32 col0\" >Transformation Method</td>\n",
       "      <td id=\"T_76dfd_row32_col1\" class=\"data row32 col1\" >None</td>\n",
       "    </tr>\n",
       "    <tr>\n",
       "      <th id=\"T_76dfd_level0_row33\" class=\"row_heading level0 row33\" >33</th>\n",
       "      <td id=\"T_76dfd_row33_col0\" class=\"data row33 col0\" >PCA</td>\n",
       "      <td id=\"T_76dfd_row33_col1\" class=\"data row33 col1\" >False</td>\n",
       "    </tr>\n",
       "    <tr>\n",
       "      <th id=\"T_76dfd_level0_row34\" class=\"row_heading level0 row34\" >34</th>\n",
       "      <td id=\"T_76dfd_row34_col0\" class=\"data row34 col0\" >PCA Method</td>\n",
       "      <td id=\"T_76dfd_row34_col1\" class=\"data row34 col1\" >None</td>\n",
       "    </tr>\n",
       "    <tr>\n",
       "      <th id=\"T_76dfd_level0_row35\" class=\"row_heading level0 row35\" >35</th>\n",
       "      <td id=\"T_76dfd_row35_col0\" class=\"data row35 col0\" >PCA Components</td>\n",
       "      <td id=\"T_76dfd_row35_col1\" class=\"data row35 col1\" >None</td>\n",
       "    </tr>\n",
       "    <tr>\n",
       "      <th id=\"T_76dfd_level0_row36\" class=\"row_heading level0 row36\" >36</th>\n",
       "      <td id=\"T_76dfd_row36_col0\" class=\"data row36 col0\" >Ignore Low Variance</td>\n",
       "      <td id=\"T_76dfd_row36_col1\" class=\"data row36 col1\" >False</td>\n",
       "    </tr>\n",
       "    <tr>\n",
       "      <th id=\"T_76dfd_level0_row37\" class=\"row_heading level0 row37\" >37</th>\n",
       "      <td id=\"T_76dfd_row37_col0\" class=\"data row37 col0\" >Combine Rare Levels</td>\n",
       "      <td id=\"T_76dfd_row37_col1\" class=\"data row37 col1\" >False</td>\n",
       "    </tr>\n",
       "    <tr>\n",
       "      <th id=\"T_76dfd_level0_row38\" class=\"row_heading level0 row38\" >38</th>\n",
       "      <td id=\"T_76dfd_row38_col0\" class=\"data row38 col0\" >Rare Level Threshold</td>\n",
       "      <td id=\"T_76dfd_row38_col1\" class=\"data row38 col1\" >None</td>\n",
       "    </tr>\n",
       "    <tr>\n",
       "      <th id=\"T_76dfd_level0_row39\" class=\"row_heading level0 row39\" >39</th>\n",
       "      <td id=\"T_76dfd_row39_col0\" class=\"data row39 col0\" >Numeric Binning</td>\n",
       "      <td id=\"T_76dfd_row39_col1\" class=\"data row39 col1\" >False</td>\n",
       "    </tr>\n",
       "    <tr>\n",
       "      <th id=\"T_76dfd_level0_row40\" class=\"row_heading level0 row40\" >40</th>\n",
       "      <td id=\"T_76dfd_row40_col0\" class=\"data row40 col0\" >Remove Outliers</td>\n",
       "      <td id=\"T_76dfd_row40_col1\" class=\"data row40 col1\" >False</td>\n",
       "    </tr>\n",
       "    <tr>\n",
       "      <th id=\"T_76dfd_level0_row41\" class=\"row_heading level0 row41\" >41</th>\n",
       "      <td id=\"T_76dfd_row41_col0\" class=\"data row41 col0\" >Outliers Threshold</td>\n",
       "      <td id=\"T_76dfd_row41_col1\" class=\"data row41 col1\" >None</td>\n",
       "    </tr>\n",
       "    <tr>\n",
       "      <th id=\"T_76dfd_level0_row42\" class=\"row_heading level0 row42\" >42</th>\n",
       "      <td id=\"T_76dfd_row42_col0\" class=\"data row42 col0\" >Remove Multicollinearity</td>\n",
       "      <td id=\"T_76dfd_row42_col1\" class=\"data row42 col1\" >False</td>\n",
       "    </tr>\n",
       "    <tr>\n",
       "      <th id=\"T_76dfd_level0_row43\" class=\"row_heading level0 row43\" >43</th>\n",
       "      <td id=\"T_76dfd_row43_col0\" class=\"data row43 col0\" >Multicollinearity Threshold</td>\n",
       "      <td id=\"T_76dfd_row43_col1\" class=\"data row43 col1\" >None</td>\n",
       "    </tr>\n",
       "    <tr>\n",
       "      <th id=\"T_76dfd_level0_row44\" class=\"row_heading level0 row44\" >44</th>\n",
       "      <td id=\"T_76dfd_row44_col0\" class=\"data row44 col0\" >Remove Perfect Collinearity</td>\n",
       "      <td id=\"T_76dfd_row44_col1\" class=\"data row44 col1\" >True</td>\n",
       "    </tr>\n",
       "    <tr>\n",
       "      <th id=\"T_76dfd_level0_row45\" class=\"row_heading level0 row45\" >45</th>\n",
       "      <td id=\"T_76dfd_row45_col0\" class=\"data row45 col0\" >Clustering</td>\n",
       "      <td id=\"T_76dfd_row45_col1\" class=\"data row45 col1\" >False</td>\n",
       "    </tr>\n",
       "    <tr>\n",
       "      <th id=\"T_76dfd_level0_row46\" class=\"row_heading level0 row46\" >46</th>\n",
       "      <td id=\"T_76dfd_row46_col0\" class=\"data row46 col0\" >Clustering Iteration</td>\n",
       "      <td id=\"T_76dfd_row46_col1\" class=\"data row46 col1\" >None</td>\n",
       "    </tr>\n",
       "    <tr>\n",
       "      <th id=\"T_76dfd_level0_row47\" class=\"row_heading level0 row47\" >47</th>\n",
       "      <td id=\"T_76dfd_row47_col0\" class=\"data row47 col0\" >Polynomial Features</td>\n",
       "      <td id=\"T_76dfd_row47_col1\" class=\"data row47 col1\" >False</td>\n",
       "    </tr>\n",
       "    <tr>\n",
       "      <th id=\"T_76dfd_level0_row48\" class=\"row_heading level0 row48\" >48</th>\n",
       "      <td id=\"T_76dfd_row48_col0\" class=\"data row48 col0\" >Polynomial Degree</td>\n",
       "      <td id=\"T_76dfd_row48_col1\" class=\"data row48 col1\" >None</td>\n",
       "    </tr>\n",
       "    <tr>\n",
       "      <th id=\"T_76dfd_level0_row49\" class=\"row_heading level0 row49\" >49</th>\n",
       "      <td id=\"T_76dfd_row49_col0\" class=\"data row49 col0\" >Trignometry Features</td>\n",
       "      <td id=\"T_76dfd_row49_col1\" class=\"data row49 col1\" >False</td>\n",
       "    </tr>\n",
       "    <tr>\n",
       "      <th id=\"T_76dfd_level0_row50\" class=\"row_heading level0 row50\" >50</th>\n",
       "      <td id=\"T_76dfd_row50_col0\" class=\"data row50 col0\" >Polynomial Threshold</td>\n",
       "      <td id=\"T_76dfd_row50_col1\" class=\"data row50 col1\" >None</td>\n",
       "    </tr>\n",
       "    <tr>\n",
       "      <th id=\"T_76dfd_level0_row51\" class=\"row_heading level0 row51\" >51</th>\n",
       "      <td id=\"T_76dfd_row51_col0\" class=\"data row51 col0\" >Group Features</td>\n",
       "      <td id=\"T_76dfd_row51_col1\" class=\"data row51 col1\" >False</td>\n",
       "    </tr>\n",
       "    <tr>\n",
       "      <th id=\"T_76dfd_level0_row52\" class=\"row_heading level0 row52\" >52</th>\n",
       "      <td id=\"T_76dfd_row52_col0\" class=\"data row52 col0\" >Feature Selection</td>\n",
       "      <td id=\"T_76dfd_row52_col1\" class=\"data row52 col1\" >False</td>\n",
       "    </tr>\n",
       "    <tr>\n",
       "      <th id=\"T_76dfd_level0_row53\" class=\"row_heading level0 row53\" >53</th>\n",
       "      <td id=\"T_76dfd_row53_col0\" class=\"data row53 col0\" >Feature Selection Method</td>\n",
       "      <td id=\"T_76dfd_row53_col1\" class=\"data row53 col1\" >classic</td>\n",
       "    </tr>\n",
       "    <tr>\n",
       "      <th id=\"T_76dfd_level0_row54\" class=\"row_heading level0 row54\" >54</th>\n",
       "      <td id=\"T_76dfd_row54_col0\" class=\"data row54 col0\" >Features Selection Threshold</td>\n",
       "      <td id=\"T_76dfd_row54_col1\" class=\"data row54 col1\" >None</td>\n",
       "    </tr>\n",
       "    <tr>\n",
       "      <th id=\"T_76dfd_level0_row55\" class=\"row_heading level0 row55\" >55</th>\n",
       "      <td id=\"T_76dfd_row55_col0\" class=\"data row55 col0\" >Feature Interaction</td>\n",
       "      <td id=\"T_76dfd_row55_col1\" class=\"data row55 col1\" >False</td>\n",
       "    </tr>\n",
       "    <tr>\n",
       "      <th id=\"T_76dfd_level0_row56\" class=\"row_heading level0 row56\" >56</th>\n",
       "      <td id=\"T_76dfd_row56_col0\" class=\"data row56 col0\" >Feature Ratio</td>\n",
       "      <td id=\"T_76dfd_row56_col1\" class=\"data row56 col1\" >False</td>\n",
       "    </tr>\n",
       "    <tr>\n",
       "      <th id=\"T_76dfd_level0_row57\" class=\"row_heading level0 row57\" >57</th>\n",
       "      <td id=\"T_76dfd_row57_col0\" class=\"data row57 col0\" >Interaction Threshold</td>\n",
       "      <td id=\"T_76dfd_row57_col1\" class=\"data row57 col1\" >None</td>\n",
       "    </tr>\n",
       "    <tr>\n",
       "      <th id=\"T_76dfd_level0_row58\" class=\"row_heading level0 row58\" >58</th>\n",
       "      <td id=\"T_76dfd_row58_col0\" class=\"data row58 col0\" >Fix Imbalance</td>\n",
       "      <td id=\"T_76dfd_row58_col1\" class=\"data row58 col1\" >False</td>\n",
       "    </tr>\n",
       "    <tr>\n",
       "      <th id=\"T_76dfd_level0_row59\" class=\"row_heading level0 row59\" >59</th>\n",
       "      <td id=\"T_76dfd_row59_col0\" class=\"data row59 col0\" >Fix Imbalance Method</td>\n",
       "      <td id=\"T_76dfd_row59_col1\" class=\"data row59 col1\" >SMOTE</td>\n",
       "    </tr>\n",
       "  </tbody>\n",
       "</table>\n"
      ],
      "text/plain": [
       "<pandas.io.formats.style.Styler at 0x16c0e97d0>"
      ]
     },
     "metadata": {},
     "output_type": "display_data"
    }
   ],
   "source": [
    "mo = setup(data = X_pyc, target = 'Polarity')"
   ]
  },
  {
   "cell_type": "code",
   "execution_count": 38,
   "metadata": {},
   "outputs": [
    {
     "data": {
      "text/html": [
       "<style type=\"text/css\">\n",
       "#T_25654_ th {\n",
       "  text-align: left;\n",
       "}\n",
       "#T_25654_row0_col0, #T_25654_row0_col3, #T_25654_row0_col4, #T_25654_row0_col5, #T_25654_row0_col7, #T_25654_row1_col0, #T_25654_row1_col1, #T_25654_row1_col2, #T_25654_row1_col3, #T_25654_row1_col5, #T_25654_row1_col6, #T_25654_row2_col0, #T_25654_row2_col1, #T_25654_row2_col2, #T_25654_row2_col3, #T_25654_row2_col4, #T_25654_row2_col6, #T_25654_row2_col7, #T_25654_row3_col0, #T_25654_row3_col1, #T_25654_row3_col2, #T_25654_row3_col3, #T_25654_row3_col4, #T_25654_row3_col5, #T_25654_row3_col6, #T_25654_row3_col7, #T_25654_row4_col0, #T_25654_row4_col1, #T_25654_row4_col2, #T_25654_row4_col3, #T_25654_row4_col4, #T_25654_row4_col5, #T_25654_row4_col6, #T_25654_row4_col7, #T_25654_row5_col0, #T_25654_row5_col1, #T_25654_row5_col2, #T_25654_row5_col3, #T_25654_row5_col4, #T_25654_row5_col5, #T_25654_row5_col6, #T_25654_row5_col7, #T_25654_row6_col0, #T_25654_row6_col1, #T_25654_row6_col2, #T_25654_row6_col3, #T_25654_row6_col4, #T_25654_row6_col5, #T_25654_row6_col6, #T_25654_row6_col7, #T_25654_row7_col0, #T_25654_row7_col1, #T_25654_row7_col2, #T_25654_row7_col3, #T_25654_row7_col4, #T_25654_row7_col5, #T_25654_row7_col6, #T_25654_row7_col7, #T_25654_row8_col0, #T_25654_row8_col1, #T_25654_row8_col2, #T_25654_row8_col3, #T_25654_row8_col4, #T_25654_row8_col5, #T_25654_row8_col6, #T_25654_row8_col7, #T_25654_row9_col0, #T_25654_row9_col1, #T_25654_row9_col2, #T_25654_row9_col3, #T_25654_row9_col4, #T_25654_row9_col5, #T_25654_row9_col6, #T_25654_row9_col7, #T_25654_row10_col0, #T_25654_row10_col1, #T_25654_row10_col2, #T_25654_row10_col4, #T_25654_row10_col5, #T_25654_row10_col6, #T_25654_row10_col7, #T_25654_row11_col0, #T_25654_row11_col1, #T_25654_row11_col2, #T_25654_row11_col3, #T_25654_row11_col4, #T_25654_row11_col5, #T_25654_row11_col6, #T_25654_row11_col7, #T_25654_row12_col0, #T_25654_row12_col1, #T_25654_row12_col2, #T_25654_row12_col3, #T_25654_row12_col4, #T_25654_row12_col5, #T_25654_row12_col6, #T_25654_row12_col7, #T_25654_row13_col0, #T_25654_row13_col1, #T_25654_row13_col2, #T_25654_row13_col3, #T_25654_row13_col4, #T_25654_row13_col5, #T_25654_row13_col6, #T_25654_row13_col7, #T_25654_row14_col0, #T_25654_row14_col1, #T_25654_row14_col2, #T_25654_row14_col3, #T_25654_row14_col4, #T_25654_row14_col5, #T_25654_row14_col6, #T_25654_row14_col7 {\n",
       "  text-align: left;\n",
       "}\n",
       "#T_25654_row0_col1, #T_25654_row0_col2, #T_25654_row0_col6, #T_25654_row1_col4, #T_25654_row1_col7, #T_25654_row2_col5, #T_25654_row10_col3 {\n",
       "  text-align: left;\n",
       "  background-color: yellow;\n",
       "}\n",
       "#T_25654_row0_col8, #T_25654_row1_col8, #T_25654_row2_col8, #T_25654_row3_col8, #T_25654_row4_col8, #T_25654_row5_col8, #T_25654_row6_col8, #T_25654_row7_col8, #T_25654_row8_col8, #T_25654_row9_col8, #T_25654_row11_col8, #T_25654_row12_col8, #T_25654_row13_col8, #T_25654_row14_col8 {\n",
       "  text-align: left;\n",
       "  background-color: lightgrey;\n",
       "}\n",
       "#T_25654_row10_col8 {\n",
       "  text-align: left;\n",
       "  background-color: yellow;\n",
       "  background-color: lightgrey;\n",
       "}\n",
       "</style>\n",
       "<table id=\"T_25654_\">\n",
       "  <thead>\n",
       "    <tr>\n",
       "      <th class=\"blank level0\" >&nbsp;</th>\n",
       "      <th class=\"col_heading level0 col0\" >Model</th>\n",
       "      <th class=\"col_heading level0 col1\" >Accuracy</th>\n",
       "      <th class=\"col_heading level0 col2\" >AUC</th>\n",
       "      <th class=\"col_heading level0 col3\" >Recall</th>\n",
       "      <th class=\"col_heading level0 col4\" >Prec.</th>\n",
       "      <th class=\"col_heading level0 col5\" >F1</th>\n",
       "      <th class=\"col_heading level0 col6\" >Kappa</th>\n",
       "      <th class=\"col_heading level0 col7\" >MCC</th>\n",
       "      <th class=\"col_heading level0 col8\" >TT (Sec)</th>\n",
       "    </tr>\n",
       "  </thead>\n",
       "  <tbody>\n",
       "    <tr>\n",
       "      <th id=\"T_25654_level0_row0\" class=\"row_heading level0 row0\" >lr</th>\n",
       "      <td id=\"T_25654_row0_col0\" class=\"data row0 col0\" >Logistic Regression</td>\n",
       "      <td id=\"T_25654_row0_col1\" class=\"data row0 col1\" >0.7782</td>\n",
       "      <td id=\"T_25654_row0_col2\" class=\"data row0 col2\" >0.8606</td>\n",
       "      <td id=\"T_25654_row0_col3\" class=\"data row0 col3\" >0.7282</td>\n",
       "      <td id=\"T_25654_row0_col4\" class=\"data row0 col4\" >0.7994</td>\n",
       "      <td id=\"T_25654_row0_col5\" class=\"data row0 col5\" >0.7612</td>\n",
       "      <td id=\"T_25654_row0_col6\" class=\"data row0 col6\" >0.5550</td>\n",
       "      <td id=\"T_25654_row0_col7\" class=\"data row0 col7\" >0.5582</td>\n",
       "      <td id=\"T_25654_row0_col8\" class=\"data row0 col8\" >15.8530</td>\n",
       "    </tr>\n",
       "    <tr>\n",
       "      <th id=\"T_25654_level0_row1\" class=\"row_heading level0 row1\" >catboost</th>\n",
       "      <td id=\"T_25654_row1_col0\" class=\"data row1 col0\" >CatBoost Classifier</td>\n",
       "      <td id=\"T_25654_row1_col1\" class=\"data row1 col1\" >0.7770</td>\n",
       "      <td id=\"T_25654_row1_col2\" class=\"data row1 col2\" >0.8586</td>\n",
       "      <td id=\"T_25654_row1_col3\" class=\"data row1 col3\" >0.6425</td>\n",
       "      <td id=\"T_25654_row1_col4\" class=\"data row1 col4\" >0.8650</td>\n",
       "      <td id=\"T_25654_row1_col5\" class=\"data row1 col5\" >0.7355</td>\n",
       "      <td id=\"T_25654_row1_col6\" class=\"data row1 col6\" >0.5507</td>\n",
       "      <td id=\"T_25654_row1_col7\" class=\"data row1 col7\" >0.5701</td>\n",
       "      <td id=\"T_25654_row1_col8\" class=\"data row1 col8\" >36.9620</td>\n",
       "    </tr>\n",
       "    <tr>\n",
       "      <th id=\"T_25654_level0_row2\" class=\"row_heading level0 row2\" >ridge</th>\n",
       "      <td id=\"T_25654_row2_col0\" class=\"data row2 col0\" >Ridge Classifier</td>\n",
       "      <td id=\"T_25654_row2_col1\" class=\"data row2 col1\" >0.7728</td>\n",
       "      <td id=\"T_25654_row2_col2\" class=\"data row2 col2\" >0.0000</td>\n",
       "      <td id=\"T_25654_row2_col3\" class=\"data row2 col3\" >0.7515</td>\n",
       "      <td id=\"T_25654_row2_col4\" class=\"data row2 col4\" >0.7750</td>\n",
       "      <td id=\"T_25654_row2_col5\" class=\"data row2 col5\" >0.7624</td>\n",
       "      <td id=\"T_25654_row2_col6\" class=\"data row2 col6\" >0.5449</td>\n",
       "      <td id=\"T_25654_row2_col7\" class=\"data row2 col7\" >0.5459</td>\n",
       "      <td id=\"T_25654_row2_col8\" class=\"data row2 col8\" >0.4760</td>\n",
       "    </tr>\n",
       "    <tr>\n",
       "      <th id=\"T_25654_level0_row3\" class=\"row_heading level0 row3\" >et</th>\n",
       "      <td id=\"T_25654_row3_col0\" class=\"data row3 col0\" >Extra Trees Classifier</td>\n",
       "      <td id=\"T_25654_row3_col1\" class=\"data row3 col1\" >0.7716</td>\n",
       "      <td id=\"T_25654_row3_col2\" class=\"data row3 col2\" >0.8315</td>\n",
       "      <td id=\"T_25654_row3_col3\" class=\"data row3 col3\" >0.7209</td>\n",
       "      <td id=\"T_25654_row3_col4\" class=\"data row3 col4\" >0.7926</td>\n",
       "      <td id=\"T_25654_row3_col5\" class=\"data row3 col5\" >0.7543</td>\n",
       "      <td id=\"T_25654_row3_col6\" class=\"data row3 col6\" >0.5418</td>\n",
       "      <td id=\"T_25654_row3_col7\" class=\"data row3 col7\" >0.5447</td>\n",
       "      <td id=\"T_25654_row3_col8\" class=\"data row3 col8\" >1.9650</td>\n",
       "    </tr>\n",
       "    <tr>\n",
       "      <th id=\"T_25654_level0_row4\" class=\"row_heading level0 row4\" >rf</th>\n",
       "      <td id=\"T_25654_row4_col0\" class=\"data row4 col0\" >Random Forest Classifier</td>\n",
       "      <td id=\"T_25654_row4_col1\" class=\"data row4 col1\" >0.7651</td>\n",
       "      <td id=\"T_25654_row4_col2\" class=\"data row4 col2\" >0.8289</td>\n",
       "      <td id=\"T_25654_row4_col3\" class=\"data row4 col3\" >0.6498</td>\n",
       "      <td id=\"T_25654_row4_col4\" class=\"data row4 col4\" >0.8314</td>\n",
       "      <td id=\"T_25654_row4_col5\" class=\"data row4 col5\" >0.7282</td>\n",
       "      <td id=\"T_25654_row4_col6\" class=\"data row4 col6\" >0.5271</td>\n",
       "      <td id=\"T_25654_row4_col7\" class=\"data row4 col7\" >0.5404</td>\n",
       "      <td id=\"T_25654_row4_col8\" class=\"data row4 col8\" >1.5180</td>\n",
       "    </tr>\n",
       "    <tr>\n",
       "      <th id=\"T_25654_level0_row5\" class=\"row_heading level0 row5\" >xgboost</th>\n",
       "      <td id=\"T_25654_row5_col0\" class=\"data row5 col0\" >Extreme Gradient Boosting</td>\n",
       "      <td id=\"T_25654_row5_col1\" class=\"data row5 col1\" >0.7615</td>\n",
       "      <td id=\"T_25654_row5_col2\" class=\"data row5 col2\" >0.8302</td>\n",
       "      <td id=\"T_25654_row5_col3\" class=\"data row5 col3\" >0.6596</td>\n",
       "      <td id=\"T_25654_row5_col4\" class=\"data row5 col4\" >0.8155</td>\n",
       "      <td id=\"T_25654_row5_col5\" class=\"data row5 col5\" >0.7279</td>\n",
       "      <td id=\"T_25654_row5_col6\" class=\"data row5 col6\" >0.5202</td>\n",
       "      <td id=\"T_25654_row5_col7\" class=\"data row5 col7\" >0.5305</td>\n",
       "      <td id=\"T_25654_row5_col8\" class=\"data row5 col8\" >13.8560</td>\n",
       "    </tr>\n",
       "    <tr>\n",
       "      <th id=\"T_25654_level0_row6\" class=\"row_heading level0 row6\" >gbc</th>\n",
       "      <td id=\"T_25654_row6_col0\" class=\"data row6 col0\" >Gradient Boosting Classifier</td>\n",
       "      <td id=\"T_25654_row6_col1\" class=\"data row6 col1\" >0.7567</td>\n",
       "      <td id=\"T_25654_row6_col2\" class=\"data row6 col2\" >0.8295</td>\n",
       "      <td id=\"T_25654_row6_col3\" class=\"data row6 col3\" >0.5972</td>\n",
       "      <td id=\"T_25654_row6_col4\" class=\"data row6 col4\" >0.8614</td>\n",
       "      <td id=\"T_25654_row6_col5\" class=\"data row6 col5\" >0.7030</td>\n",
       "      <td id=\"T_25654_row6_col6\" class=\"data row6 col6\" >0.5092</td>\n",
       "      <td id=\"T_25654_row6_col7\" class=\"data row6 col7\" >0.5351</td>\n",
       "      <td id=\"T_25654_row6_col8\" class=\"data row6 col8\" >2.3700</td>\n",
       "    </tr>\n",
       "    <tr>\n",
       "      <th id=\"T_25654_level0_row7\" class=\"row_heading level0 row7\" >ada</th>\n",
       "      <td id=\"T_25654_row7_col0\" class=\"data row7 col0\" >Ada Boost Classifier</td>\n",
       "      <td id=\"T_25654_row7_col1\" class=\"data row7 col1\" >0.7537</td>\n",
       "      <td id=\"T_25654_row7_col2\" class=\"data row7 col2\" >0.8017</td>\n",
       "      <td id=\"T_25654_row7_col3\" class=\"data row7 col3\" >0.5936</td>\n",
       "      <td id=\"T_25654_row7_col4\" class=\"data row7 col4\" >0.8570</td>\n",
       "      <td id=\"T_25654_row7_col5\" class=\"data row7 col5\" >0.6994</td>\n",
       "      <td id=\"T_25654_row7_col6\" class=\"data row7 col6\" >0.5032</td>\n",
       "      <td id=\"T_25654_row7_col7\" class=\"data row7 col7\" >0.5286</td>\n",
       "      <td id=\"T_25654_row7_col8\" class=\"data row7 col8\" >0.8580</td>\n",
       "    </tr>\n",
       "    <tr>\n",
       "      <th id=\"T_25654_level0_row8\" class=\"row_heading level0 row8\" >dt</th>\n",
       "      <td id=\"T_25654_row8_col0\" class=\"data row8 col0\" >Decision Tree Classifier</td>\n",
       "      <td id=\"T_25654_row8_col1\" class=\"data row8 col1\" >0.7442</td>\n",
       "      <td id=\"T_25654_row8_col2\" class=\"data row8 col2\" >0.7421</td>\n",
       "      <td id=\"T_25654_row8_col3\" class=\"data row8 col3\" >0.7037</td>\n",
       "      <td id=\"T_25654_row8_col4\" class=\"data row8 col4\" >0.7553</td>\n",
       "      <td id=\"T_25654_row8_col5\" class=\"data row8 col5\" >0.7277</td>\n",
       "      <td id=\"T_25654_row8_col6\" class=\"data row8 col6\" >0.4871</td>\n",
       "      <td id=\"T_25654_row8_col7\" class=\"data row8 col7\" >0.4892</td>\n",
       "      <td id=\"T_25654_row8_col8\" class=\"data row8 col8\" >0.4520</td>\n",
       "    </tr>\n",
       "    <tr>\n",
       "      <th id=\"T_25654_level0_row9\" class=\"row_heading level0 row9\" >svm</th>\n",
       "      <td id=\"T_25654_row9_col0\" class=\"data row9 col0\" >SVM - Linear Kernel</td>\n",
       "      <td id=\"T_25654_row9_col1\" class=\"data row9 col1\" >0.7066</td>\n",
       "      <td id=\"T_25654_row9_col2\" class=\"data row9 col2\" >0.0000</td>\n",
       "      <td id=\"T_25654_row9_col3\" class=\"data row9 col3\" >0.8164</td>\n",
       "      <td id=\"T_25654_row9_col4\" class=\"data row9 col4\" >0.7058</td>\n",
       "      <td id=\"T_25654_row9_col5\" class=\"data row9 col5\" >0.7378</td>\n",
       "      <td id=\"T_25654_row9_col6\" class=\"data row9 col6\" >0.4186</td>\n",
       "      <td id=\"T_25654_row9_col7\" class=\"data row9 col7\" >0.4266</td>\n",
       "      <td id=\"T_25654_row9_col8\" class=\"data row9 col8\" >0.5760</td>\n",
       "    </tr>\n",
       "    <tr>\n",
       "      <th id=\"T_25654_level0_row10\" class=\"row_heading level0 row10\" >nb</th>\n",
       "      <td id=\"T_25654_row10_col0\" class=\"data row10 col0\" >Naive Bayes</td>\n",
       "      <td id=\"T_25654_row10_col1\" class=\"data row10 col1\" >0.6947</td>\n",
       "      <td id=\"T_25654_row10_col2\" class=\"data row10 col2\" >0.6991</td>\n",
       "      <td id=\"T_25654_row10_col3\" class=\"data row10 col3\" >0.8421</td>\n",
       "      <td id=\"T_25654_row10_col4\" class=\"data row10 col4\" >0.6434</td>\n",
       "      <td id=\"T_25654_row10_col5\" class=\"data row10 col5\" >0.7290</td>\n",
       "      <td id=\"T_25654_row10_col6\" class=\"data row10 col6\" >0.3937</td>\n",
       "      <td id=\"T_25654_row10_col7\" class=\"data row10 col7\" >0.4135</td>\n",
       "      <td id=\"T_25654_row10_col8\" class=\"data row10 col8\" >0.2540</td>\n",
       "    </tr>\n",
       "    <tr>\n",
       "      <th id=\"T_25654_level0_row11\" class=\"row_heading level0 row11\" >lightgbm</th>\n",
       "      <td id=\"T_25654_row11_col0\" class=\"data row11 col0\" >Light Gradient Boosting Machine</td>\n",
       "      <td id=\"T_25654_row11_col1\" class=\"data row11 col1\" >0.6673</td>\n",
       "      <td id=\"T_25654_row11_col2\" class=\"data row11 col2\" >0.7208</td>\n",
       "      <td id=\"T_25654_row11_col3\" class=\"data row11 col3\" >0.5044</td>\n",
       "      <td id=\"T_25654_row11_col4\" class=\"data row11 col4\" >0.7290</td>\n",
       "      <td id=\"T_25654_row11_col5\" class=\"data row11 col5\" >0.5945</td>\n",
       "      <td id=\"T_25654_row11_col6\" class=\"data row11 col6\" >0.3289</td>\n",
       "      <td id=\"T_25654_row11_col7\" class=\"data row11 col7\" >0.3455</td>\n",
       "      <td id=\"T_25654_row11_col8\" class=\"data row11 col8\" >3.3630</td>\n",
       "    </tr>\n",
       "    <tr>\n",
       "      <th id=\"T_25654_level0_row12\" class=\"row_heading level0 row12\" >lda</th>\n",
       "      <td id=\"T_25654_row12_col0\" class=\"data row12 col0\" >Linear Discriminant Analysis</td>\n",
       "      <td id=\"T_25654_row12_col1\" class=\"data row12 col1\" >0.6387</td>\n",
       "      <td id=\"T_25654_row12_col2\" class=\"data row12 col2\" >0.6527</td>\n",
       "      <td id=\"T_25654_row12_col3\" class=\"data row12 col3\" >0.6317</td>\n",
       "      <td id=\"T_25654_row12_col4\" class=\"data row12 col4\" >0.6297</td>\n",
       "      <td id=\"T_25654_row12_col5\" class=\"data row12 col5\" >0.6300</td>\n",
       "      <td id=\"T_25654_row12_col6\" class=\"data row12 col6\" >0.2770</td>\n",
       "      <td id=\"T_25654_row12_col7\" class=\"data row12 col7\" >0.2776</td>\n",
       "      <td id=\"T_25654_row12_col8\" class=\"data row12 col8\" >7.4350</td>\n",
       "    </tr>\n",
       "    <tr>\n",
       "      <th id=\"T_25654_level0_row13\" class=\"row_heading level0 row13\" >knn</th>\n",
       "      <td id=\"T_25654_row13_col0\" class=\"data row13 col0\" >K Neighbors Classifier</td>\n",
       "      <td id=\"T_25654_row13_col1\" class=\"data row13 col1\" >0.6160</td>\n",
       "      <td id=\"T_25654_row13_col2\" class=\"data row13 col2\" >0.6515</td>\n",
       "      <td id=\"T_25654_row13_col3\" class=\"data row13 col3\" >0.5339</td>\n",
       "      <td id=\"T_25654_row13_col4\" class=\"data row13 col4\" >0.6245</td>\n",
       "      <td id=\"T_25654_row13_col5\" class=\"data row13 col5\" >0.5739</td>\n",
       "      <td id=\"T_25654_row13_col6\" class=\"data row13 col6\" >0.2288</td>\n",
       "      <td id=\"T_25654_row13_col7\" class=\"data row13 col7\" >0.2321</td>\n",
       "      <td id=\"T_25654_row13_col8\" class=\"data row13 col8\" >1.0470</td>\n",
       "    </tr>\n",
       "    <tr>\n",
       "      <th id=\"T_25654_level0_row14\" class=\"row_heading level0 row14\" >qda</th>\n",
       "      <td id=\"T_25654_row14_col0\" class=\"data row14 col0\" >Quadratic Discriminant Analysis</td>\n",
       "      <td id=\"T_25654_row14_col1\" class=\"data row14 col1\" >0.5480</td>\n",
       "      <td id=\"T_25654_row14_col2\" class=\"data row14 col2\" >0.5545</td>\n",
       "      <td id=\"T_25654_row14_col3\" class=\"data row14 col3\" >0.8079</td>\n",
       "      <td id=\"T_25654_row14_col4\" class=\"data row14 col4\" >0.5242</td>\n",
       "      <td id=\"T_25654_row14_col5\" class=\"data row14 col5\" >0.6344</td>\n",
       "      <td id=\"T_25654_row14_col6\" class=\"data row14 col6\" >0.1076</td>\n",
       "      <td id=\"T_25654_row14_col7\" class=\"data row14 col7\" >0.1279</td>\n",
       "      <td id=\"T_25654_row14_col8\" class=\"data row14 col8\" >2.7930</td>\n",
       "    </tr>\n",
       "  </tbody>\n",
       "</table>\n"
      ],
      "text/plain": [
       "<pandas.io.formats.style.Styler at 0x16c114410>"
      ]
     },
     "metadata": {},
     "output_type": "display_data"
    }
   ],
   "source": [
    "cl = compare_models()"
   ]
  }
 ],
 "metadata": {
  "kernelspec": {
   "display_name": "Python 3",
   "language": "python",
   "name": "python3"
  },
  "language_info": {
   "codemirror_mode": {
    "name": "ipython",
    "version": 3
   },
   "file_extension": ".py",
   "mimetype": "text/x-python",
   "name": "python",
   "nbconvert_exporter": "python",
   "pygments_lexer": "ipython3",
   "version": "3.7.7"
  }
 },
 "nbformat": 4,
 "nbformat_minor": 4
}
